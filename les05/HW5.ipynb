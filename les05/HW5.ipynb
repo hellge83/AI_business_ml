{
 "cells": [
  {
   "cell_type": "code",
   "execution_count": 1,
   "metadata": {},
   "outputs": [],
   "source": [
    "import pandas as pd\n",
    "import numpy as np\n",
    "from sklearn.pipeline import Pipeline, make_pipeline\n",
    "from sklearn.base import BaseEstimator, TransformerMixin\n",
    "from sklearn.pipeline import FeatureUnion\n",
    "\n",
    "from sklearn.linear_model import LogisticRegression\n",
    "from sklearn.ensemble import RandomForestClassifier\n",
    "import lightgbm as lgbm\n",
    "import catboost as catb\n",
    "\n",
    "from sklearn.model_selection import train_test_split\n",
    "from sklearn.metrics import precision_recall_curve, roc_curve, roc_auc_score, confusion_matrix, log_loss\n",
    "from sklearn.metrics import classification_report, f1_score, precision_score, recall_score\n",
    "from sklearn.model_selection import cross_val_score, train_test_split\n",
    "from sklearn.preprocessing import StandardScaler\n",
    "from sklearn.model_selection import RepeatedStratifiedKFold, GridSearchCV\n",
    "import itertools\n",
    "\n",
    "import matplotlib.pyplot as plt\n",
    "%matplotlib inline"
   ]
  },
  {
   "cell_type": "code",
   "execution_count": 2,
   "metadata": {},
   "outputs": [
    {
     "data": {
      "text/html": [
       "<div>\n",
       "<style scoped>\n",
       "    .dataframe tbody tr th:only-of-type {\n",
       "        vertical-align: middle;\n",
       "    }\n",
       "\n",
       "    .dataframe tbody tr th {\n",
       "        vertical-align: top;\n",
       "    }\n",
       "\n",
       "    .dataframe thead th {\n",
       "        text-align: right;\n",
       "    }\n",
       "</style>\n",
       "<table border=\"1\" class=\"dataframe\">\n",
       "  <thead>\n",
       "    <tr style=\"text-align: right;\">\n",
       "      <th></th>\n",
       "      <th>RowNumber</th>\n",
       "      <th>CustomerId</th>\n",
       "      <th>Surname</th>\n",
       "      <th>CreditScore</th>\n",
       "      <th>Geography</th>\n",
       "      <th>Gender</th>\n",
       "      <th>Age</th>\n",
       "      <th>Tenure</th>\n",
       "      <th>Balance</th>\n",
       "      <th>NumOfProducts</th>\n",
       "      <th>HasCrCard</th>\n",
       "      <th>IsActiveMember</th>\n",
       "      <th>EstimatedSalary</th>\n",
       "      <th>Exited</th>\n",
       "    </tr>\n",
       "  </thead>\n",
       "  <tbody>\n",
       "    <tr>\n",
       "      <th>0</th>\n",
       "      <td>1</td>\n",
       "      <td>15634602</td>\n",
       "      <td>Hargrave</td>\n",
       "      <td>619</td>\n",
       "      <td>France</td>\n",
       "      <td>Female</td>\n",
       "      <td>42</td>\n",
       "      <td>2</td>\n",
       "      <td>0.00</td>\n",
       "      <td>1</td>\n",
       "      <td>1</td>\n",
       "      <td>1</td>\n",
       "      <td>101348.88</td>\n",
       "      <td>1</td>\n",
       "    </tr>\n",
       "    <tr>\n",
       "      <th>1</th>\n",
       "      <td>2</td>\n",
       "      <td>15647311</td>\n",
       "      <td>Hill</td>\n",
       "      <td>608</td>\n",
       "      <td>Spain</td>\n",
       "      <td>Female</td>\n",
       "      <td>41</td>\n",
       "      <td>1</td>\n",
       "      <td>83807.86</td>\n",
       "      <td>1</td>\n",
       "      <td>0</td>\n",
       "      <td>1</td>\n",
       "      <td>112542.58</td>\n",
       "      <td>0</td>\n",
       "    </tr>\n",
       "    <tr>\n",
       "      <th>2</th>\n",
       "      <td>3</td>\n",
       "      <td>15619304</td>\n",
       "      <td>Onio</td>\n",
       "      <td>502</td>\n",
       "      <td>France</td>\n",
       "      <td>Female</td>\n",
       "      <td>42</td>\n",
       "      <td>8</td>\n",
       "      <td>159660.80</td>\n",
       "      <td>3</td>\n",
       "      <td>1</td>\n",
       "      <td>0</td>\n",
       "      <td>113931.57</td>\n",
       "      <td>1</td>\n",
       "    </tr>\n",
       "  </tbody>\n",
       "</table>\n",
       "</div>"
      ],
      "text/plain": [
       "   RowNumber  CustomerId   Surname  CreditScore Geography  Gender  Age  \\\n",
       "0          1    15634602  Hargrave          619    France  Female   42   \n",
       "1          2    15647311      Hill          608     Spain  Female   41   \n",
       "2          3    15619304      Onio          502    France  Female   42   \n",
       "\n",
       "   Tenure    Balance  NumOfProducts  HasCrCard  IsActiveMember  \\\n",
       "0       2       0.00              1          1               1   \n",
       "1       1   83807.86              1          0               1   \n",
       "2       8  159660.80              3          1               0   \n",
       "\n",
       "   EstimatedSalary  Exited  \n",
       "0        101348.88       1  \n",
       "1        112542.58       0  \n",
       "2        113931.57       1  "
      ]
     },
     "execution_count": 2,
     "metadata": {},
     "output_type": "execute_result"
    }
   ],
   "source": [
    "df = pd.read_csv(\"churn_data.csv\")\n",
    "df.head(3)"
   ]
  },
  {
   "cell_type": "code",
   "execution_count": 3,
   "metadata": {},
   "outputs": [
    {
     "data": {
      "text/plain": [
       "0    7963\n",
       "1    2037\n",
       "Name: Exited, dtype: int64"
      ]
     },
     "execution_count": 3,
     "metadata": {},
     "output_type": "execute_result"
    }
   ],
   "source": [
    "df['Exited'].value_counts()"
   ]
  },
  {
   "cell_type": "code",
   "execution_count": 4,
   "metadata": {},
   "outputs": [],
   "source": [
    "#разделим данные на train/test\n",
    "X_train, X_test, y_train, y_test = train_test_split(df, df['Exited'], random_state=0)"
   ]
  },
  {
   "cell_type": "code",
   "execution_count": 5,
   "metadata": {},
   "outputs": [],
   "source": [
    "#соберем наш простой pipeline, но нам понадобится написать класс для выбора нужного поля\n",
    "class FeatureSelector(BaseEstimator, TransformerMixin):\n",
    "    def __init__(self, column):\n",
    "        self.column = column\n",
    "\n",
    "    def fit(self, X, y=None):\n",
    "        return self\n",
    "\n",
    "    def transform(self, X, y=None):\n",
    "        return X[self.column]\n",
    "    \n",
    "class NumberSelector(BaseEstimator, TransformerMixin):\n",
    "    \"\"\"\n",
    "    Transformer to select a single column from the data frame to perform additional transformations on\n",
    "    Use on numeric columns in the data\n",
    "    \"\"\"\n",
    "    def __init__(self, key):\n",
    "        self.key = key\n",
    "\n",
    "    def fit(self, X, y=None):\n",
    "        return self\n",
    "\n",
    "    def transform(self, X):\n",
    "        return X[[self.key]]\n",
    "    \n",
    "class OHEEncoder(BaseEstimator, TransformerMixin):\n",
    "    def __init__(self, key):\n",
    "        self.key = key\n",
    "        self.columns = []\n",
    "\n",
    "    def fit(self, X, y=None):\n",
    "        self.columns = [col for col in pd.get_dummies(X, prefix=self.key).columns]\n",
    "        return self\n",
    "\n",
    "    def transform(self, X):\n",
    "        X = pd.get_dummies(X, prefix=self.key)\n",
    "        test_columns = [col for col in X.columns]\n",
    "        for col_ in self.columns:\n",
    "            if col_ not in test_columns:\n",
    "                X[col_] = 0\n",
    "        return X[self.columns]"
   ]
  },
  {
   "cell_type": "code",
   "execution_count": 6,
   "metadata": {},
   "outputs": [],
   "source": [
    "def plot_confusion_matrix(cm, classes,\n",
    "                          normalize=False,\n",
    "                          title='Confusion matrix',\n",
    "                          cmap=plt.cm.Blues):\n",
    "    \"\"\"\n",
    "    This function prints and plots the confusion matrix.\n",
    "    Normalization can be applied by setting `normalize=True`.\n",
    "    \"\"\"\n",
    "    plt.imshow(cm, interpolation='nearest', cmap=cmap)\n",
    "    plt.title(title)\n",
    "    plt.colorbar()\n",
    "    tick_marks = np.arange(len(classes))\n",
    "    plt.xticks(tick_marks, classes, rotation=45)\n",
    "    plt.yticks(tick_marks, classes)\n",
    "\n",
    "    if normalize:\n",
    "        cm = cm.astype('float') / cm.sum(axis=1)[:, np.newaxis]\n",
    "        print(\"Normalized confusion matrix\")\n",
    "    else:\n",
    "        print('Confusion matrix, without normalization')\n",
    "\n",
    "    print(cm)\n",
    "\n",
    "    thresh = cm.max() / 2.\n",
    "    for i, j in itertools.product(range(cm.shape[0]), range(cm.shape[1])):\n",
    "        plt.text(j, i, cm[i, j],\n",
    "                 horizontalalignment=\"center\",\n",
    "                 color=\"white\" if cm[i, j] > thresh else \"black\")\n",
    "\n",
    "    plt.tight_layout()\n",
    "    plt.ylabel('True label')\n",
    "    plt.xlabel('Predicted label')"
   ]
  },
  {
   "cell_type": "code",
   "execution_count": 7,
   "metadata": {},
   "outputs": [],
   "source": [
    "categorical_columns = ['Geography', 'Gender', 'Tenure', 'HasCrCard', 'IsActiveMember']\n",
    "continuous_columns = ['CreditScore', 'Age', 'Balance', 'NumOfProducts', 'EstimatedSalary']"
   ]
  },
  {
   "cell_type": "code",
   "execution_count": 8,
   "metadata": {},
   "outputs": [],
   "source": [
    "final_transformers = list()\n",
    "\n",
    "for cat_col in categorical_columns:\n",
    "    cat_transformer = Pipeline([\n",
    "                ('selector', FeatureSelector(column=cat_col)),\n",
    "                ('ohe', OHEEncoder(key=cat_col))\n",
    "            ])\n",
    "    final_transformers.append((cat_col, cat_transformer))\n",
    "    \n",
    "for cont_col in continuous_columns:\n",
    "    cont_transformer = Pipeline([\n",
    "                ('selector', NumberSelector(key=cont_col)),\n",
    "                ('standard', StandardScaler())\n",
    "            ])\n",
    "    final_transformers.append((cont_col, cont_transformer))"
   ]
  },
  {
   "cell_type": "code",
   "execution_count": 9,
   "metadata": {},
   "outputs": [],
   "source": [
    "feats = FeatureUnion(final_transformers)\n",
    "\n",
    "# feature_processing = Pipeline([('feats', feats)])"
   ]
  },
  {
   "cell_type": "code",
   "execution_count": 10,
   "metadata": {},
   "outputs": [],
   "source": [
    "def get_classifier_metrics(b, classifier, y_test, y_score):\n",
    "    precision, recall, thresholds = precision_recall_curve(y_test.values, y_score)\n",
    "    fscore = (1+b**2)*(precision * recall) / (b**2*precision + recall)\n",
    "    # locate the index of the largest f score\n",
    "    ix = np.argmax(fscore)\n",
    "\n",
    "    roc_auc = roc_auc_score(y_true=y_test, y_score = classifier.predict_proba(X_test)[:,1])\n",
    "    return roc_auc, fscore[ix], precision[ix], recall[ix], thresholds[ix]"
   ]
  },
  {
   "cell_type": "code",
   "execution_count": 11,
   "metadata": {},
   "outputs": [],
   "source": [
    "def get_pred_rates(th, y_test, y_score):\n",
    "    cnf_matrix = confusion_matrix(y_test, y_score>th)\n",
    "\n",
    "    TN = cnf_matrix[0][0]\n",
    "    FN = cnf_matrix[1][0]\n",
    "    TP = cnf_matrix[1][1]\n",
    "    FP = cnf_matrix[0][1]\n",
    "\n",
    "#     TPR = TP/(TP+FN)\n",
    "#     FPR = FP/(FP+TN)\n",
    "#     TNR = TN/(FP+TN)\n",
    "    \n",
    "    return TN, FN, TP, FP, cnf_matrix"
   ]
  },
  {
   "cell_type": "code",
   "execution_count": 12,
   "metadata": {},
   "outputs": [],
   "source": [
    "def profit_calc(TP, FP, FN, cost_per_one = 1, rev_per_one = 2):\n",
    "    total_cost = cost_per_one * (TP + FP) # потратим на возвращение всех предсказанных\n",
    "    total_rev = rev_per_one * TP # получим с правильно предсказанных\n",
    "    total_loss = rev_per_one * FN # недополучим с пропущенных, ткк они уйдут\n",
    "    total_profit = total_rev - total_cost - total_loss\n",
    "    \n",
    "    return total_profit"
   ]
  },
  {
   "cell_type": "code",
   "execution_count": 13,
   "metadata": {},
   "outputs": [],
   "source": [
    "lr = LogisticRegression(random_state = 42)\n",
    "rf = RandomForestClassifier(random_state = 42)\n",
    "catboost = catb.CatBoostClassifier(silent = True, random_state = 42)\n",
    "lgbmc = lgbm.LGBMClassifier(random_state = 42)\n",
    "\n",
    "models = [lr, rf, catboost, lgbmc]"
   ]
  },
  {
   "cell_type": "code",
   "execution_count": 14,
   "metadata": {},
   "outputs": [
    {
     "ename": "ValueError",
     "evalue": "too many values to unpack (expected 4)",
     "output_type": "error",
     "traceback": [
      "\u001b[1;31m---------------------------------------------------------------------------\u001b[0m",
      "\u001b[1;31mValueError\u001b[0m                                Traceback (most recent call last)",
      "\u001b[1;32m<timed exec>\u001b[0m in \u001b[0;36m<module>\u001b[1;34m\u001b[0m\n",
      "\u001b[1;31mValueError\u001b[0m: too many values to unpack (expected 4)"
     ]
    }
   ],
   "source": [
    "%%time\n",
    "res = {}\n",
    "for model in models:\n",
    "    classifier = Pipeline([\n",
    "    ('features',feats),\n",
    "    ('classifier', model),\n",
    "    ])\n",
    "    \n",
    "    classifier.fit(X_train, y_train)\n",
    "    y_score = classifier.predict_proba(X_test)[:, 1]\n",
    "    \n",
    "    roc_auc, fscore, precision, recall, threshold = get_classifier_metrics(1, classifier, y_test, y_score)\n",
    "    TN, FN, TP, FP = get_pred_rates(threshold, y_test, y_score)\n",
    "    \n",
    "    font = {'size' : 15}\n",
    "    plt.rc('font', **font)\n",
    "    cnf_matrix = confusion_matrix(y_test, y_score > threshold)\n",
    "    plt.figure(figsize=(5, 4))\n",
    "    plot_confusion_matrix(cnf_matrix, classes=['NonChurn', 'Churn'], title='Confusion matrix')\n",
    "    plt.show()\n",
    "    \n",
    "    total_profit = profit_calc(TP, FP, FN, cost_per_one = 1, rev_per_one = 2)\n",
    "    \n",
    "    res['model_' + format(model)] = [roc_auc, fscore, precision, recall, TN, FN, TP, FP, total_profit]"
   ]
  },
  {
   "cell_type": "code",
   "execution_count": 15,
   "metadata": {},
   "outputs": [
    {
     "data": {
      "text/html": [
       "<div>\n",
       "<style scoped>\n",
       "    .dataframe tbody tr th:only-of-type {\n",
       "        vertical-align: middle;\n",
       "    }\n",
       "\n",
       "    .dataframe tbody tr th {\n",
       "        vertical-align: top;\n",
       "    }\n",
       "\n",
       "    .dataframe thead th {\n",
       "        text-align: right;\n",
       "    }\n",
       "</style>\n",
       "<table border=\"1\" class=\"dataframe\">\n",
       "  <thead>\n",
       "    <tr style=\"text-align: right;\">\n",
       "      <th></th>\n",
       "      <th>roc_auc</th>\n",
       "      <th>fscore</th>\n",
       "      <th>precision</th>\n",
       "      <th>recall</th>\n",
       "      <th>TN</th>\n",
       "      <th>FN</th>\n",
       "      <th>TP</th>\n",
       "      <th>FP</th>\n",
       "      <th>total_profit</th>\n",
       "    </tr>\n",
       "  </thead>\n",
       "  <tbody>\n",
       "  </tbody>\n",
       "</table>\n",
       "</div>"
      ],
      "text/plain": [
       "Empty DataFrame\n",
       "Columns: [roc_auc, fscore, precision, recall, TN, FN, TP, FP, total_profit]\n",
       "Index: []"
      ]
     },
     "execution_count": 15,
     "metadata": {},
     "output_type": "execute_result"
    }
   ],
   "source": [
    "pd.DataFrame.from_dict(res, orient='index', columns = ['roc_auc', 'fscore', 'precision', 'recall', 'TN', 'FN', 'TP', 'FP', 'total_profit'])"
   ]
  },
  {
   "cell_type": "markdown",
   "metadata": {},
   "source": [
    "* catboost не сильно выигрывает по f1 и roc_auc у lgbm, но у lgbm ощутимо выше recall: она пропускает меньше объектов положительного класса, но чаще объявляет ложную тревогу, что может увеличить стоимость затрат на возврат клиентов.\n",
    "* Предположим, что мы сумеем вернуть каждого верно предсказанного. При стоимости удержания 1 USD и средней ожидаемой прибыли с каждого возвращенного 2 USD (соответственно, и потере с каждого пропущенного отчурнившегося тоже в 2 USD) ни одна из моделей не принесет нам выручки, но на lgbm потери будут минимальны\n",
    "* при увеличении средней ожидаемой выручки, допустим, до 3 USD lgbm уже выходит в плюс"
   ]
  },
  {
   "cell_type": "markdown",
   "metadata": {},
   "source": [
    "#### LGBM GridSearch"
   ]
  },
  {
   "cell_type": "code",
   "execution_count": 16,
   "metadata": {},
   "outputs": [],
   "source": [
    "pipeline_base = Pipeline([\n",
    "    ('features',feats),\n",
    "    ('classifier', lgbm.LGBMClassifier(random_state = 42)),\n",
    "])"
   ]
  },
  {
   "cell_type": "code",
   "execution_count": 17,
   "metadata": {},
   "outputs": [],
   "source": [
    "params={'classifier__n_estimators':[50, 100, 250, 500],\n",
    "        'classifier__num_leaves':[11, 21, 31, 51],\n",
    "        'classifier__max_depth':[-1, 2, 5, 6]\n",
    "        }"
   ]
  },
  {
   "cell_type": "code",
   "execution_count": 18,
   "metadata": {},
   "outputs": [
    {
     "name": "stdout",
     "output_type": "stream",
     "text": [
      "Fitting 25 folds for each of 64 candidates, totalling 1600 fits\n"
     ]
    },
    {
     "name": "stderr",
     "output_type": "stream",
     "text": [
      "[Parallel(n_jobs=-1)]: Using backend LokyBackend with 12 concurrent workers.\n",
      "[Parallel(n_jobs=-1)]: Done   1 tasks      | elapsed:    2.7s\n",
      "[Parallel(n_jobs=-1)]: Done   8 tasks      | elapsed:    2.9s\n",
      "[Parallel(n_jobs=-1)]: Done  17 tasks      | elapsed:    3.2s\n",
      "[Parallel(n_jobs=-1)]: Done  26 tasks      | elapsed:    3.5s\n",
      "[Parallel(n_jobs=-1)]: Done  37 tasks      | elapsed:    3.7s\n",
      "[Parallel(n_jobs=-1)]: Done  48 tasks      | elapsed:    4.0s\n",
      "[Parallel(n_jobs=-1)]: Done  61 tasks      | elapsed:    4.3s\n",
      "[Parallel(n_jobs=-1)]: Done  74 tasks      | elapsed:    4.8s\n",
      "[Parallel(n_jobs=-1)]: Done  89 tasks      | elapsed:    5.4s\n",
      "[Parallel(n_jobs=-1)]: Done 104 tasks      | elapsed:    5.8s\n",
      "[Parallel(n_jobs=-1)]: Done 121 tasks      | elapsed:    6.3s\n",
      "[Parallel(n_jobs=-1)]: Done 138 tasks      | elapsed:    6.9s\n",
      "[Parallel(n_jobs=-1)]: Done 157 tasks      | elapsed:    7.6s\n",
      "[Parallel(n_jobs=-1)]: Done 176 tasks      | elapsed:    8.6s\n",
      "[Parallel(n_jobs=-1)]: Done 197 tasks      | elapsed:    9.6s\n",
      "[Parallel(n_jobs=-1)]: Done 218 tasks      | elapsed:   10.7s\n",
      "[Parallel(n_jobs=-1)]: Done 241 tasks      | elapsed:   12.1s\n",
      "[Parallel(n_jobs=-1)]: Done 264 tasks      | elapsed:   14.1s\n",
      "[Parallel(n_jobs=-1)]: Done 289 tasks      | elapsed:   17.1s\n",
      "[Parallel(n_jobs=-1)]: Done 314 tasks      | elapsed:   19.3s\n",
      "[Parallel(n_jobs=-1)]: Done 341 tasks      | elapsed:   22.5s\n",
      "[Parallel(n_jobs=-1)]: Done 368 tasks      | elapsed:   26.7s\n",
      "[Parallel(n_jobs=-1)]: Done 397 tasks      | elapsed:   32.4s\n",
      "[Parallel(n_jobs=-1)]: Done 426 tasks      | elapsed:   33.3s\n",
      "[Parallel(n_jobs=-1)]: Done 457 tasks      | elapsed:   34.0s\n",
      "[Parallel(n_jobs=-1)]: Done 488 tasks      | elapsed:   34.7s\n",
      "[Parallel(n_jobs=-1)]: Done 521 tasks      | elapsed:   35.6s\n",
      "[Parallel(n_jobs=-1)]: Done 554 tasks      | elapsed:   36.5s\n",
      "[Parallel(n_jobs=-1)]: Done 589 tasks      | elapsed:   37.3s\n",
      "[Parallel(n_jobs=-1)]: Done 624 tasks      | elapsed:   38.3s\n",
      "[Parallel(n_jobs=-1)]: Done 661 tasks      | elapsed:   39.6s\n",
      "[Parallel(n_jobs=-1)]: Done 698 tasks      | elapsed:   41.0s\n",
      "[Parallel(n_jobs=-1)]: Done 737 tasks      | elapsed:   43.4s\n",
      "[Parallel(n_jobs=-1)]: Done 776 tasks      | elapsed:   45.6s\n",
      "[Parallel(n_jobs=-1)]: Done 817 tasks      | elapsed:   47.1s\n",
      "[Parallel(n_jobs=-1)]: Done 858 tasks      | elapsed:   48.3s\n",
      "[Parallel(n_jobs=-1)]: Done 901 tasks      | elapsed:   49.4s\n",
      "[Parallel(n_jobs=-1)]: Done 944 tasks      | elapsed:   50.8s\n",
      "[Parallel(n_jobs=-1)]: Done 989 tasks      | elapsed:   52.4s\n",
      "[Parallel(n_jobs=-1)]: Done 1034 tasks      | elapsed:   54.8s\n",
      "[Parallel(n_jobs=-1)]: Done 1081 tasks      | elapsed:   57.7s\n",
      "[Parallel(n_jobs=-1)]: Done 1128 tasks      | elapsed:  1.0min\n",
      "[Parallel(n_jobs=-1)]: Done 1177 tasks      | elapsed:  1.1min\n",
      "[Parallel(n_jobs=-1)]: Done 1226 tasks      | elapsed:  1.2min\n",
      "[Parallel(n_jobs=-1)]: Done 1277 tasks      | elapsed:  1.2min\n",
      "[Parallel(n_jobs=-1)]: Done 1328 tasks      | elapsed:  1.2min\n",
      "[Parallel(n_jobs=-1)]: Done 1381 tasks      | elapsed:  1.3min\n",
      "[Parallel(n_jobs=-1)]: Done 1434 tasks      | elapsed:  1.3min\n",
      "[Parallel(n_jobs=-1)]: Done 1489 tasks      | elapsed:  1.4min\n",
      "[Parallel(n_jobs=-1)]: Done 1544 tasks      | elapsed:  1.5min\n",
      "[Parallel(n_jobs=-1)]: Done 1600 out of 1600 | elapsed:  1.6min finished\n"
     ]
    }
   ],
   "source": [
    "# cv = RepeatedStratifiedKFold(n_splits = 5, n_repeats = 5, random_state = 42)\n",
    "# grid = GridSearchCV(pipeline_base, params, n_jobs = -1, scoring = 'f1', cv = cv, verbose = 10)\n",
    "\n",
    "# search = grid.fit(X_train, y_train)\n"
   ]
  },
  {
   "cell_type": "code",
   "execution_count": 19,
   "metadata": {},
   "outputs": [
    {
     "data": {
      "text/plain": [
       "({'classifier__max_depth': -1,\n",
       "  'classifier__n_estimators': 50,\n",
       "  'classifier__num_leaves': 21},\n",
       " 0.5908238612571877)"
      ]
     },
     "execution_count": 19,
     "metadata": {},
     "output_type": "execute_result"
    }
   ],
   "source": [
    "# search.best_params_, search.best_score_"
   ]
  },
  {
   "cell_type": "code",
   "execution_count": null,
   "metadata": {},
   "outputs": [],
   "source": []
  },
  {
   "cell_type": "code",
   "execution_count": 20,
   "metadata": {},
   "outputs": [],
   "source": [
    "pipeline = Pipeline([\n",
    "    ('features',feats),\n",
    "    ('classifier', lgbm.LGBMClassifier(random_state = 42, max_depth = -1, n_estimators = 50, num_leaves = 21)),\n",
    "])"
   ]
  },
  {
   "cell_type": "code",
   "execution_count": 21,
   "metadata": {},
   "outputs": [
    {
     "data": {
      "text/plain": [
       "Pipeline(steps=[('features',\n",
       "                 FeatureUnion(transformer_list=[('Geography',\n",
       "                                                 Pipeline(steps=[('selector',\n",
       "                                                                  FeatureSelector(column='Geography')),\n",
       "                                                                 ('ohe',\n",
       "                                                                  OHEEncoder(key='Geography'))])),\n",
       "                                                ('Gender',\n",
       "                                                 Pipeline(steps=[('selector',\n",
       "                                                                  FeatureSelector(column='Gender')),\n",
       "                                                                 ('ohe',\n",
       "                                                                  OHEEncoder(key='Gender'))])),\n",
       "                                                ('Tenure',\n",
       "                                                 Pipeline(steps=[('selector',\n",
       "                                                                  FeatureSelector(column='Tenu...\n",
       "                                                                  NumberSelector(key='Balance')),\n",
       "                                                                 ('standard',\n",
       "                                                                  StandardScaler())])),\n",
       "                                                ('NumOfProducts',\n",
       "                                                 Pipeline(steps=[('selector',\n",
       "                                                                  NumberSelector(key='NumOfProducts')),\n",
       "                                                                 ('standard',\n",
       "                                                                  StandardScaler())])),\n",
       "                                                ('EstimatedSalary',\n",
       "                                                 Pipeline(steps=[('selector',\n",
       "                                                                  NumberSelector(key='EstimatedSalary')),\n",
       "                                                                 ('standard',\n",
       "                                                                  StandardScaler())]))])),\n",
       "                ('classifier',\n",
       "                 LGBMClassifier(n_estimators=50, num_leaves=21,\n",
       "                                random_state=42))])"
      ]
     },
     "execution_count": 21,
     "metadata": {},
     "output_type": "execute_result"
    }
   ],
   "source": [
    "pipeline.fit(X_train, y_train)"
   ]
  },
  {
   "cell_type": "code",
   "execution_count": 22,
   "metadata": {},
   "outputs": [
    {
     "data": {
      "text/plain": [
       "array([0.30312556, 0.20470534, 0.17013452, 0.07156185, 0.03806693,\n",
       "       0.91237371, 0.0495091 , 0.07350807, 0.18796141, 0.82958118])"
      ]
     },
     "execution_count": 22,
     "metadata": {},
     "output_type": "execute_result"
    }
   ],
   "source": [
    "#наши прогнозы для тестовой выборки\n",
    "preds = pipeline.predict_proba(X_test)[:, 1]\n",
    "preds[:10]"
   ]
  },
  {
   "cell_type": "code",
   "execution_count": 23,
   "metadata": {},
   "outputs": [],
   "source": [
    "roc_auc, fscore, precision, recall, threshold = get_classifier_metrics(1, pipeline, y_test, preds)"
   ]
  },
  {
   "cell_type": "code",
   "execution_count": 24,
   "metadata": {},
   "outputs": [
    {
     "data": {
      "text/plain": [
       "(0.6536964980544747,\n",
       " 0.6473988439306358,\n",
       " 0.6601178781925344,\n",
       " 0.35752115450230526)"
      ]
     },
     "execution_count": 24,
     "metadata": {},
     "output_type": "execute_result"
    }
   ],
   "source": [
    "fscore, precision, recall, threshold"
   ]
  },
  {
   "cell_type": "code",
   "execution_count": 25,
   "metadata": {},
   "outputs": [
    {
     "data": {
      "text/plain": [
       "(1808, 174, 335, 183)"
      ]
     },
     "execution_count": 25,
     "metadata": {},
     "output_type": "execute_result"
    }
   ],
   "source": [
    "TN, FN, TP, FP, cnf_matrix = get_pred_rates(threshold, y_test, preds)\n",
    "TN, FN, TP, FP"
   ]
  },
  {
   "cell_type": "code",
   "execution_count": 26,
   "metadata": {},
   "outputs": [
    {
     "name": "stdout",
     "output_type": "stream",
     "text": [
      "Confusion matrix, without normalization\n",
      "[[1808  183]\n",
      " [ 174  335]]\n"
     ]
    },
    {
     "data": {
      "image/png": "[encoded data removed]",
      "text/plain": [
       "<Figure size 360x288 with 2 Axes>"
      ]
     },
     "metadata": {
      "needs_background": "light"
     },
     "output_type": "display_data"
    }
   ],
   "source": [
    "plt.figure(figsize=(5, 4))\n",
    "plot_confusion_matrix(cnf_matrix, classes=['NonChurn', 'Churn'], title='Confusion matrix')\n",
    "plt.show()"
   ]
  },
  {
   "cell_type": "code",
   "execution_count": 27,
   "metadata": {},
   "outputs": [
    {
     "data": {
      "text/plain": [
       "-196"
      ]
     },
     "execution_count": 27,
     "metadata": {},
     "output_type": "execute_result"
    }
   ],
   "source": [
    "total_profit = profit_calc(TP, FP, FN, cost_per_one = 1, rev_per_one = 2)\n",
    "total_profit"
   ]
  },
  {
   "cell_type": "markdown",
   "metadata": {},
   "source": [
    "Несмотря на то, что мы увеличили f-score c 0.64 до 0.65, экономические метрики модели ухудшились"
   ]
  },
  {
   "cell_type": "code",
   "execution_count": 28,
   "metadata": {},
   "outputs": [],
   "source": [
    "def get_maxprofit_metrics(b, classifier, y_test, y_score):\n",
    "    precision, recall, thresholds = precision_recall_curve(y_test.values, y_score)\n",
    "    fscore = (1+b**2)*(precision * recall) / (b**2*precision + recall)\n",
    "    \n",
    "    profit = []\n",
    "    for th in thresholds:\n",
    "        cnf_matrix = confusion_matrix(y_test, y_score > th)\n",
    "\n",
    "        TN = cnf_matrix[0][0]\n",
    "        FN = cnf_matrix[1][0]\n",
    "        TP = cnf_matrix[1][1]\n",
    "        FP = cnf_matrix[0][1]\n",
    "\n",
    "        total_profit = profit_calc(TP, FP, FN, cost_per_one = 1, rev_per_one = 2)\n",
    "        profit.append(total_profit)\n",
    "#     locate the index of the largest f score\n",
    "    ix = np.argmax(profit)\n",
    "\n",
    "    return thresholds[ix], profit[ix], fscore[ix], precision[ix], recall[ix]"
   ]
  },
  {
   "cell_type": "code",
   "execution_count": 29,
   "metadata": {},
   "outputs": [
    {
     "data": {
      "text/plain": [
       "(0.24242206567964855,\n",
       " -190,\n",
       " 0.6314049586776859,\n",
       " 0.5449358059914408,\n",
       " 0.75049115913556)"
      ]
     },
     "execution_count": 29,
     "metadata": {},
     "output_type": "execute_result"
    }
   ],
   "source": [
    "get_maxprofit_metrics(1, pipeline, y_test, preds)"
   ]
  },
  {
   "cell_type": "markdown",
   "metadata": {},
   "source": [
    "Мы можем немного улучшить экономические метрики, выбрав трешхолд по максимальной выручке (пожертвовав precision в пользу recall), но в итоге получили модель все равно хуже, чем даже с коробочными настройками"
   ]
  },
  {
   "cell_type": "code",
   "execution_count": 30,
   "metadata": {},
   "outputs": [
    {
     "data": {
      "text/plain": [
       "-185"
      ]
     },
     "execution_count": 30,
     "metadata": {},
     "output_type": "execute_result"
    }
   ],
   "source": [
    "pipeline_base.fit(X_train, y_train)\n",
    "preds_base = pipeline_base.predict_proba(X_test)[:, 1]\n",
    "\n",
    "roc_auc, fscore, precision, recall, threshold = get_classifier_metrics(1, pipeline_base, y_test, preds_base)\n",
    "TN, FN, TP, FP, cnf_matrix = get_pred_rates(threshold, y_test, preds_base)\n",
    "\n",
    "total_profit = profit_calc(TP, FP, FN, cost_per_one = 1, rev_per_one = 2)\n",
    "total_profit"
   ]
  },
  {
   "cell_type": "code",
   "execution_count": 31,
   "metadata": {},
   "outputs": [
    {
     "data": {
      "text/plain": [
       "(0.28652171145323346, -181, 0.6422976501305483, 0.5765625, 0.724950884086444)"
      ]
     },
     "execution_count": 31,
     "metadata": {},
     "output_type": "execute_result"
    }
   ],
   "source": [
    "get_maxprofit_metrics(1, pipeline_base, y_test, preds_base)"
   ]
  },
  {
   "cell_type": "markdown",
   "metadata": {},
   "source": [
    "#### Вывод: при заданных стоимости удержания и ожидаемой выручки с клиента (1 USD и 2 USD соответственно) наша модель не является экономически выгодной"
   ]
  },
  {
   "cell_type": "code",
   "execution_count": null,
   "metadata": {},
   "outputs": [],
   "source": []
  }
 ],
 "metadata": {
  "kernelspec": {
   "display_name": "Python 3",
   "language": "python",
   "name": "python3"
  },
  "language_info": {
   "codemirror_mode": {
    "name": "ipython",
    "version": 3
   },
   "file_extension": ".py",
   "mimetype": "text/x-python",
   "name": "python",
   "nbconvert_exporter": "python",
   "pygments_lexer": "ipython3",
   "version": "3.7.9"
  }
 },
 "nbformat": 4,
 "nbformat_minor": 4
}
