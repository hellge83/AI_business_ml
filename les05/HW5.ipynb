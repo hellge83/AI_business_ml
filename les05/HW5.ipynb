{
 "cells": [
  {
   "cell_type": "code",
   "execution_count": 1,
   "metadata": {},
   "outputs": [],
   "source": [
    "import pandas as pd\n",
    "import numpy as np\n",
    "from sklearn.pipeline import Pipeline, make_pipeline\n",
    "from sklearn.base import BaseEstimator, TransformerMixin\n",
    "from sklearn.pipeline import FeatureUnion\n",
    "\n",
    "from sklearn.linear_model import LogisticRegression\n",
    "from sklearn.ensemble import RandomForestClassifier\n",
    "import lightgbm as lgbm\n",
    "import catboost as catb\n",
    "\n",
    "from sklearn.model_selection import train_test_split\n",
    "from sklearn.metrics import precision_recall_curve, roc_curve, roc_auc_score, confusion_matrix, log_loss\n",
    "from sklearn.metrics import classification_report, f1_score, precision_score, recall_score\n",
    "from sklearn.model_selection import cross_val_score, train_test_split\n",
    "from sklearn.preprocessing import StandardScaler\n",
    "from sklearn.model_selection import RepeatedStratifiedKFold, GridSearchCV, RandomizedSearchCV\n",
    "import itertools\n",
    "\n",
    "import matplotlib.pyplot as plt\n",
    "%matplotlib inline"
   ]
  },
  {
   "cell_type": "code",
   "execution_count": 2,
   "metadata": {},
   "outputs": [
    {
     "data": {
      "text/html": [
       "<div>\n",
       "<style scoped>\n",
       "    .dataframe tbody tr th:only-of-type {\n",
       "        vertical-align: middle;\n",
       "    }\n",
       "\n",
       "    .dataframe tbody tr th {\n",
       "        vertical-align: top;\n",
       "    }\n",
       "\n",
       "    .dataframe thead th {\n",
       "        text-align: right;\n",
       "    }\n",
       "</style>\n",
       "<table border=\"1\" class=\"dataframe\">\n",
       "  <thead>\n",
       "    <tr style=\"text-align: right;\">\n",
       "      <th></th>\n",
       "      <th>RowNumber</th>\n",
       "      <th>CustomerId</th>\n",
       "      <th>Surname</th>\n",
       "      <th>CreditScore</th>\n",
       "      <th>Geography</th>\n",
       "      <th>Gender</th>\n",
       "      <th>Age</th>\n",
       "      <th>Tenure</th>\n",
       "      <th>Balance</th>\n",
       "      <th>NumOfProducts</th>\n",
       "      <th>HasCrCard</th>\n",
       "      <th>IsActiveMember</th>\n",
       "      <th>EstimatedSalary</th>\n",
       "      <th>Exited</th>\n",
       "    </tr>\n",
       "  </thead>\n",
       "  <tbody>\n",
       "    <tr>\n",
       "      <th>0</th>\n",
       "      <td>1</td>\n",
       "      <td>15634602</td>\n",
       "      <td>Hargrave</td>\n",
       "      <td>619</td>\n",
       "      <td>France</td>\n",
       "      <td>Female</td>\n",
       "      <td>42</td>\n",
       "      <td>2</td>\n",
       "      <td>0.00</td>\n",
       "      <td>1</td>\n",
       "      <td>1</td>\n",
       "      <td>1</td>\n",
       "      <td>101348.88</td>\n",
       "      <td>1</td>\n",
       "    </tr>\n",
       "    <tr>\n",
       "      <th>1</th>\n",
       "      <td>2</td>\n",
       "      <td>15647311</td>\n",
       "      <td>Hill</td>\n",
       "      <td>608</td>\n",
       "      <td>Spain</td>\n",
       "      <td>Female</td>\n",
       "      <td>41</td>\n",
       "      <td>1</td>\n",
       "      <td>83807.86</td>\n",
       "      <td>1</td>\n",
       "      <td>0</td>\n",
       "      <td>1</td>\n",
       "      <td>112542.58</td>\n",
       "      <td>0</td>\n",
       "    </tr>\n",
       "    <tr>\n",
       "      <th>2</th>\n",
       "      <td>3</td>\n",
       "      <td>15619304</td>\n",
       "      <td>Onio</td>\n",
       "      <td>502</td>\n",
       "      <td>France</td>\n",
       "      <td>Female</td>\n",
       "      <td>42</td>\n",
       "      <td>8</td>\n",
       "      <td>159660.80</td>\n",
       "      <td>3</td>\n",
       "      <td>1</td>\n",
       "      <td>0</td>\n",
       "      <td>113931.57</td>\n",
       "      <td>1</td>\n",
       "    </tr>\n",
       "  </tbody>\n",
       "</table>\n",
       "</div>"
      ],
      "text/plain": [
       "   RowNumber  CustomerId   Surname  CreditScore Geography  Gender  Age  \\\n",
       "0          1    15634602  Hargrave          619    France  Female   42   \n",
       "1          2    15647311      Hill          608     Spain  Female   41   \n",
       "2          3    15619304      Onio          502    France  Female   42   \n",
       "\n",
       "   Tenure    Balance  NumOfProducts  HasCrCard  IsActiveMember  \\\n",
       "0       2       0.00              1          1               1   \n",
       "1       1   83807.86              1          0               1   \n",
       "2       8  159660.80              3          1               0   \n",
       "\n",
       "   EstimatedSalary  Exited  \n",
       "0        101348.88       1  \n",
       "1        112542.58       0  \n",
       "2        113931.57       1  "
      ]
     },
     "execution_count": 2,
     "metadata": {},
     "output_type": "execute_result"
    }
   ],
   "source": [
    "df = pd.read_csv(\"churn_data.csv\")\n",
    "df.head(3)"
   ]
  },
  {
   "cell_type": "code",
   "execution_count": 3,
   "metadata": {},
   "outputs": [
    {
     "data": {
      "text/plain": [
       "0    7963\n",
       "1    2037\n",
       "Name: Exited, dtype: int64"
      ]
     },
     "execution_count": 3,
     "metadata": {},
     "output_type": "execute_result"
    }
   ],
   "source": [
    "df['Exited'].value_counts()"
   ]
  },
  {
   "cell_type": "code",
   "execution_count": 4,
   "metadata": {},
   "outputs": [],
   "source": [
    "#разделим данные на train/test\n",
    "X_train, X_test, y_train, y_test = train_test_split(df, df['Exited'], random_state=0)"
   ]
  },
  {
   "cell_type": "code",
   "execution_count": 5,
   "metadata": {},
   "outputs": [],
   "source": [
    "#соберем наш простой pipeline, но нам понадобится написать класс для выбора нужного поля\n",
    "class FeatureSelector(BaseEstimator, TransformerMixin):\n",
    "    def __init__(self, column):\n",
    "        self.column = column\n",
    "\n",
    "    def fit(self, X, y=None):\n",
    "        return self\n",
    "\n",
    "    def transform(self, X, y=None):\n",
    "        return X[self.column]\n",
    "   \n",
    "    \n",
    "class NumberSelector(BaseEstimator, TransformerMixin):\n",
    "    \"\"\"\n",
    "    Transformer to select a single column from the data frame to perform additional transformations on\n",
    "    Use on numeric columns in the data\n",
    "    \"\"\"\n",
    "    def __init__(self, key):\n",
    "        self.key = key\n",
    "\n",
    "    def fit(self, X, y=None):\n",
    "        return self\n",
    "\n",
    "    def transform(self, X):\n",
    "        return X[[self.key]]\n",
    "    \n",
    "class OHEEncoder(BaseEstimator, TransformerMixin):\n",
    "    def __init__(self, key):\n",
    "        self.key = key\n",
    "        self.columns = []\n",
    "\n",
    "    def fit(self, X, y=None):\n",
    "        self.columns = [col for col in pd.get_dummies(X, prefix=self.key).columns]\n",
    "        return self\n",
    "\n",
    "    def transform(self, X):\n",
    "        X = pd.get_dummies(X, prefix=self.key)\n",
    "        test_columns = [col for col in X.columns]\n",
    "        for col_ in self.columns:\n",
    "            if col_ not in test_columns:\n",
    "                X[col_] = 0\n",
    "        return X[self.columns]\n",
    "    \n",
    "class ArrToDf(BaseEstimator, TransformerMixin):\n",
    "    def __init__(self, columns):\n",
    "        self.columns = columns\n",
    "        \n",
    "    def fit(self, X, y=None):\n",
    "        return self\n",
    "\n",
    "    def transform(self, X, y = None):\n",
    "        X = pd.DataFrame(X, columns = self.columns)\n",
    "\n",
    "        return X"
   ]
  },
  {
   "cell_type": "code",
   "execution_count": 6,
   "metadata": {},
   "outputs": [],
   "source": [
    "def plot_confusion_matrix(cm, classes,\n",
    "                          normalize=False,\n",
    "                          title='Confusion matrix',\n",
    "                          cmap=plt.cm.Blues):\n",
    "    \"\"\"\n",
    "    This function prints and plots the confusion matrix.\n",
    "    Normalization can be applied by setting `normalize=True`.\n",
    "    \"\"\"\n",
    "    plt.imshow(cm, interpolation='nearest', cmap=cmap)\n",
    "    plt.title(title)\n",
    "    plt.colorbar()\n",
    "    tick_marks = np.arange(len(classes))\n",
    "    plt.xticks(tick_marks, classes, rotation=45)\n",
    "    plt.yticks(tick_marks, classes)\n",
    "\n",
    "    if normalize:\n",
    "        cm = cm.astype('float') / cm.sum(axis=1)[:, np.newaxis]\n",
    "        print(\"Normalized confusion matrix\")\n",
    "    else:\n",
    "        print('Confusion matrix, without normalization')\n",
    "\n",
    "    print(cm)\n",
    "\n",
    "    thresh = cm.max() / 2.\n",
    "    for i, j in itertools.product(range(cm.shape[0]), range(cm.shape[1])):\n",
    "        plt.text(j, i, cm[i, j],\n",
    "                 horizontalalignment=\"center\",\n",
    "                 color=\"white\" if cm[i, j] > thresh else \"black\")\n",
    "\n",
    "    plt.tight_layout()\n",
    "    plt.ylabel('True label')\n",
    "    plt.xlabel('Predicted label')"
   ]
  },
  {
   "cell_type": "code",
   "execution_count": 7,
   "metadata": {},
   "outputs": [],
   "source": [
    "categorical_columns = ['Geography', 'Gender', 'Tenure', 'HasCrCard', 'IsActiveMember']\n",
    "continuous_columns = ['CreditScore', 'Age', 'Balance', 'NumOfProducts', 'EstimatedSalary']\n",
    "all_columns = categorical_columns + continuous_columns"
   ]
  },
  {
   "cell_type": "code",
   "execution_count": 8,
   "metadata": {},
   "outputs": [],
   "source": [
    "final_transformers = list()\n",
    "\n",
    "for cat_col in categorical_columns:\n",
    "    cat_transformer = Pipeline([\n",
    "                ('selector', FeatureSelector(column=cat_col)),\n",
    "                ('ohe', OHEEncoder(key=cat_col))\n",
    "            ])\n",
    "    final_transformers.append((cat_col, cat_transformer))\n",
    "    \n",
    "for cont_col in continuous_columns:\n",
    "    cont_transformer = Pipeline([\n",
    "                ('selector', NumberSelector(key=cont_col)),\n",
    "                ('standard', StandardScaler())\n",
    "            ])\n",
    "    final_transformers.append((cont_col, cont_transformer))"
   ]
  },
  {
   "cell_type": "code",
   "execution_count": 9,
   "metadata": {},
   "outputs": [],
   "source": [
    "feats = FeatureUnion(final_transformers)"
   ]
  },
  {
   "cell_type": "code",
   "execution_count": 10,
   "metadata": {},
   "outputs": [],
   "source": [
    "def get_classifier_metrics(b, classifier, y_test, y_score):\n",
    "    precision, recall, thresholds = precision_recall_curve(y_test.values, y_score)\n",
    "    fscore = (1+b**2)*(precision * recall) / (b**2*precision + recall)\n",
    "    # locate the index of the largest f score\n",
    "    ix = np.argmax(fscore)\n",
    "\n",
    "    roc_auc = roc_auc_score(y_true=y_test, y_score = classifier.predict_proba(X_test)[:,1])\n",
    "    return roc_auc, fscore[ix], precision[ix], recall[ix], thresholds[ix]"
   ]
  },
  {
   "cell_type": "code",
   "execution_count": 11,
   "metadata": {},
   "outputs": [],
   "source": [
    "def get_pred_rates(th, y_test, y_score):\n",
    "    cnf_matrix = confusion_matrix(y_test, y_score>th)\n",
    "\n",
    "    TN = cnf_matrix[0][0]\n",
    "    FN = cnf_matrix[1][0]\n",
    "    TP = cnf_matrix[1][1]\n",
    "    FP = cnf_matrix[0][1]\n",
    "\n",
    "#     TPR = TP/(TP+FN)\n",
    "#     FPR = FP/(FP+TN)\n",
    "#     TNR = TN/(FP+TN)\n",
    "    \n",
    "    return TN, FN, TP, FP, cnf_matrix"
   ]
  },
  {
   "cell_type": "code",
   "execution_count": 12,
   "metadata": {},
   "outputs": [],
   "source": [
    "def profit_calc(TP, FP, FN, cost_per_one = 1, rev_per_one = 2):\n",
    "    total_cost = cost_per_one * (TP + FP) # потратим на возвращение всех предсказанных\n",
    "    total_rev = rev_per_one * TP # получим с правильно предсказанных\n",
    "    total_loss = (-1) * rev_per_one * FN # недополучим с пропущенных, ткк они уйдут\n",
    "    total_profit = total_rev - total_cost\n",
    "    \n",
    "    return total_profit, total_loss"
   ]
  },
  {
   "cell_type": "code",
   "execution_count": 13,
   "metadata": {},
   "outputs": [],
   "source": [
    "lr = LogisticRegression(random_state = 42)\n",
    "rf = RandomForestClassifier(random_state = 42)\n",
    "catboost = catb.CatBoostClassifier(silent = True, random_state = 42)\n",
    "lgbmc = lgbm.LGBMClassifier(random_state = 42)\n",
    "\n",
    "models = [lr, rf, catboost, lgbmc]"
   ]
  },
  {
   "cell_type": "code",
   "execution_count": 14,
   "metadata": {},
   "outputs": [
    {
     "name": "stdout",
     "output_type": "stream",
     "text": [
      "Confusion matrix, without normalization\n",
      "[[1655  336]\n",
      " [ 221  288]]\n"
     ]
    },
    {
     "data": {
      "image/png": "[encoded data removed]",
      "text/plain": [
       "<Figure size 360x288 with 2 Axes>"
      ]
     },
     "metadata": {
      "needs_background": "light"
     },
     "output_type": "display_data"
    },
    {
     "name": "stdout",
     "output_type": "stream",
     "text": [
      "Confusion matrix, without normalization\n",
      "[[1833  158]\n",
      " [ 195  314]]\n"
     ]
    },
    {
     "data": {
      "image/png": "[encoded data removed]",
      "text/plain": [
       "<Figure size 360x288 with 2 Axes>"
      ]
     },
     "metadata": {
      "needs_background": "light"
     },
     "output_type": "display_data"
    },
    {
     "name": "stdout",
     "output_type": "stream",
     "text": [
      "Confusion matrix, without normalization\n",
      "[[1826  165]\n",
      " [ 188  321]]\n"
     ]
    },
    {
     "data": {
      "image/png": "[encoded data removed]",
      "text/plain": [
       "<Figure size 360x288 with 2 Axes>"
      ]
     },
     "metadata": {
      "needs_background": "light"
     },
     "output_type": "display_data"
    },
    {
     "name": "stdout",
     "output_type": "stream",
     "text": [
      "Confusion matrix, without normalization\n",
      "[[1729  262]\n",
      " [ 144  365]]\n"
     ]
    },
    {
     "data": {
      "image/png": "[encoded data removed]",
      "text/plain": [
       "<Figure size 360x288 with 2 Axes>"
      ]
     },
     "metadata": {
      "needs_background": "light"
     },
     "output_type": "display_data"
    },
    {
     "name": "stdout",
     "output_type": "stream",
     "text": [
      "Wall time: 7.36 s\n"
     ]
    }
   ],
   "source": [
    "%%time\n",
    "res = {}\n",
    "for model in models:\n",
    "    classifier = Pipeline([\n",
    "    ('features',feats),\n",
    "    ('classifier', model),\n",
    "    ])\n",
    "    \n",
    "    classifier.fit(X_train, y_train)\n",
    "    y_score = classifier.predict_proba(X_test)[:, 1]\n",
    "    \n",
    "    roc_auc, fscore, precision, recall, threshold = get_classifier_metrics(1, classifier, y_test, y_score)\n",
    "    TN, FN, TP, FP, cnf_matrix = get_pred_rates(threshold, y_test, y_score)\n",
    "    \n",
    "    font = {'size' : 15}\n",
    "    plt.rc('font', **font)\n",
    "#     cnf_matrix = confusion_matrix(y_test, y_score > threshold)\n",
    "    plt.figure(figsize=(5, 4))\n",
    "    plot_confusion_matrix(cnf_matrix, classes=['NonChurn', 'Churn'], title='Confusion matrix')\n",
    "    plt.show()\n",
    "    \n",
    "    total_profit, total_lost_inc = profit_calc(TP, FP, FN, cost_per_one = 1, rev_per_one = 2)\n",
    "    \n",
    "    res['model_' + format(model)] = [roc_auc, fscore, precision, recall, TN, FN, TP, FP, total_profit, total_lost_inc]"
   ]
  },
  {
   "cell_type": "code",
   "execution_count": 15,
   "metadata": {},
   "outputs": [
    {
     "data": {
      "text/html": [
       "<div>\n",
       "<style scoped>\n",
       "    .dataframe tbody tr th:only-of-type {\n",
       "        vertical-align: middle;\n",
       "    }\n",
       "\n",
       "    .dataframe tbody tr th {\n",
       "        vertical-align: top;\n",
       "    }\n",
       "\n",
       "    .dataframe thead th {\n",
       "        text-align: right;\n",
       "    }\n",
       "</style>\n",
       "<table border=\"1\" class=\"dataframe\">\n",
       "  <thead>\n",
       "    <tr style=\"text-align: right;\">\n",
       "      <th></th>\n",
       "      <th>roc_auc</th>\n",
       "      <th>fscore</th>\n",
       "      <th>precision</th>\n",
       "      <th>recall</th>\n",
       "      <th>TN</th>\n",
       "      <th>FN</th>\n",
       "      <th>TP</th>\n",
       "      <th>FP</th>\n",
       "      <th>total_profit</th>\n",
       "      <th>total_lost_inc</th>\n",
       "    </tr>\n",
       "  </thead>\n",
       "  <tbody>\n",
       "    <tr>\n",
       "      <th>model_LogisticRegression(random_state=42)</th>\n",
       "      <td>0.772077</td>\n",
       "      <td>0.509700</td>\n",
       "      <td>0.462400</td>\n",
       "      <td>0.567780</td>\n",
       "      <td>1655</td>\n",
       "      <td>221</td>\n",
       "      <td>288</td>\n",
       "      <td>336</td>\n",
       "      <td>-48</td>\n",
       "      <td>-442</td>\n",
       "    </tr>\n",
       "    <tr>\n",
       "      <th>model_RandomForestClassifier(random_state=42)</th>\n",
       "      <td>0.863699</td>\n",
       "      <td>0.641283</td>\n",
       "      <td>0.654397</td>\n",
       "      <td>0.628684</td>\n",
       "      <td>1833</td>\n",
       "      <td>195</td>\n",
       "      <td>314</td>\n",
       "      <td>158</td>\n",
       "      <td>156</td>\n",
       "      <td>-390</td>\n",
       "    </tr>\n",
       "    <tr>\n",
       "      <th>model_&lt;catboost.core.CatBoostClassifier object at 0x000001C58077DC08&gt;</th>\n",
       "      <td>0.876942</td>\n",
       "      <td>0.646586</td>\n",
       "      <td>0.661191</td>\n",
       "      <td>0.632613</td>\n",
       "      <td>1826</td>\n",
       "      <td>188</td>\n",
       "      <td>321</td>\n",
       "      <td>165</td>\n",
       "      <td>156</td>\n",
       "      <td>-376</td>\n",
       "    </tr>\n",
       "    <tr>\n",
       "      <th>model_LGBMClassifier(random_state=42)</th>\n",
       "      <td>0.871872</td>\n",
       "      <td>0.643799</td>\n",
       "      <td>0.582803</td>\n",
       "      <td>0.719057</td>\n",
       "      <td>1729</td>\n",
       "      <td>144</td>\n",
       "      <td>365</td>\n",
       "      <td>262</td>\n",
       "      <td>103</td>\n",
       "      <td>-288</td>\n",
       "    </tr>\n",
       "  </tbody>\n",
       "</table>\n",
       "</div>"
      ],
      "text/plain": [
       "                                                     roc_auc    fscore  \\\n",
       "model_LogisticRegression(random_state=42)           0.772077  0.509700   \n",
       "model_RandomForestClassifier(random_state=42)       0.863699  0.641283   \n",
       "model_<catboost.core.CatBoostClassifier object ...  0.876942  0.646586   \n",
       "model_LGBMClassifier(random_state=42)               0.871872  0.643799   \n",
       "\n",
       "                                                    precision    recall    TN  \\\n",
       "model_LogisticRegression(random_state=42)            0.462400  0.567780  1655   \n",
       "model_RandomForestClassifier(random_state=42)        0.654397  0.628684  1833   \n",
       "model_<catboost.core.CatBoostClassifier object ...   0.661191  0.632613  1826   \n",
       "model_LGBMClassifier(random_state=42)                0.582803  0.719057  1729   \n",
       "\n",
       "                                                     FN   TP   FP  \\\n",
       "model_LogisticRegression(random_state=42)           221  288  336   \n",
       "model_RandomForestClassifier(random_state=42)       195  314  158   \n",
       "model_<catboost.core.CatBoostClassifier object ...  188  321  165   \n",
       "model_LGBMClassifier(random_state=42)               144  365  262   \n",
       "\n",
       "                                                    total_profit  \\\n",
       "model_LogisticRegression(random_state=42)                    -48   \n",
       "model_RandomForestClassifier(random_state=42)                156   \n",
       "model_<catboost.core.CatBoostClassifier object ...           156   \n",
       "model_LGBMClassifier(random_state=42)                        103   \n",
       "\n",
       "                                                    total_lost_inc  \n",
       "model_LogisticRegression(random_state=42)                     -442  \n",
       "model_RandomForestClassifier(random_state=42)                 -390  \n",
       "model_<catboost.core.CatBoostClassifier object ...            -376  \n",
       "model_LGBMClassifier(random_state=42)                         -288  "
      ]
     },
     "execution_count": 15,
     "metadata": {},
     "output_type": "execute_result"
    }
   ],
   "source": [
    "models_compare = pd.DataFrame.from_dict(res, orient='index', columns = ['roc_auc', 'fscore', 'precision', 'recall', 'TN', 'FN', 'TP', 'FP', 'total_profit', 'total_lost_inc'])\n",
    "models_compare"
   ]
  },
  {
   "cell_type": "markdown",
   "metadata": {},
   "source": [
    "* catboost не сильно выигрывает по f1 и roc_auc у lgbm. Предположим, что мы сумеем вернуть каждого верно предсказанного. При стоимости удержания 1 USD и средней ожидаемой прибыли с каждого возвращенного 2 USD (соответственно, и потере с каждого пропущенного отчурнившегося тоже в 2 USD) total_profit у catboost выше\n",
    "* Total_profit у RandomForest при заданных условиях получилась одинаковая c catboost. Но размер недополученной прибыли у catboost ниже, что объясняется более высоким recall - меньше пропущенных моделью объектов положительного класса (FN). Прочие метрики качества у catboost выше, чем у случайного леса"
   ]
  },
  {
   "cell_type": "markdown",
   "metadata": {},
   "source": [
    "### Catboost params tuning"
   ]
  },
  {
   "cell_type": "markdown",
   "metadata": {},
   "source": [
    "#### cate features on the classifier's side"
   ]
  },
  {
   "cell_type": "code",
   "execution_count": 16,
   "metadata": {},
   "outputs": [],
   "source": [
    "catb_transformers = list()\n",
    "\n",
    "for cat_col in categorical_columns:\n",
    "    cat_transformer = Pipeline([\n",
    "                ('selector', NumberSelector(key=cat_col)),\n",
    "#                 ('ohe', OHEEncoder(key=cat_col)),\n",
    "            ])\n",
    "    catb_transformers.append((cat_col, cat_transformer))\n",
    "    \n",
    "for cont_col in continuous_columns:\n",
    "    cont_transformer = Pipeline([\n",
    "                ('selector', NumberSelector(key=cont_col)),\n",
    "                ('standard', StandardScaler()),\n",
    "            ])\n",
    "    catb_transformers.append((cont_col, cont_transformer))\n",
    "\n",
    "catb_feats = FeatureUnion(catb_transformers)"
   ]
  },
  {
   "cell_type": "code",
   "execution_count": 17,
   "metadata": {},
   "outputs": [],
   "source": [
    "catb_pipeline_cat_features = Pipeline([\n",
    "    ('features', catb_feats),\n",
    "    ('make_df', ArrToDf(columns = all_columns)),\n",
    "    ('classifier', catb.CatBoostClassifier(silent = True, cat_features = categorical_columns, random_state = 42)),\n",
    "])"
   ]
  },
  {
   "cell_type": "code",
   "execution_count": 18,
   "metadata": {},
   "outputs": [
    {
     "data": {
      "text/plain": [
       "Pipeline(steps=[('features',\n",
       "                 FeatureUnion(transformer_list=[('Geography',\n",
       "                                                 Pipeline(steps=[('selector',\n",
       "                                                                  NumberSelector(key='Geography'))])),\n",
       "                                                ('Gender',\n",
       "                                                 Pipeline(steps=[('selector',\n",
       "                                                                  NumberSelector(key='Gender'))])),\n",
       "                                                ('Tenure',\n",
       "                                                 Pipeline(steps=[('selector',\n",
       "                                                                  NumberSelector(key='Tenure'))])),\n",
       "                                                ('HasCrCard',\n",
       "                                                 Pipeline(steps=[('selector',\n",
       "                                                                  NumberSelector(key='HasCrCard')...\n",
       "                                                ('EstimatedSalary',\n",
       "                                                 Pipeline(steps=[('selector',\n",
       "                                                                  NumberSelector(key='EstimatedSalary')),\n",
       "                                                                 ('standard',\n",
       "                                                                  StandardScaler())]))])),\n",
       "                ('make_df',\n",
       "                 ArrToDf(columns=['Geography', 'Gender', 'Tenure', 'HasCrCard',\n",
       "                                  'IsActiveMember', 'CreditScore', 'Age',\n",
       "                                  'Balance', 'NumOfProducts',\n",
       "                                  'EstimatedSalary'])),\n",
       "                ('classifier',\n",
       "                 <catboost.core.CatBoostClassifier object at 0x000001C58072FDC8>)])"
      ]
     },
     "execution_count": 18,
     "metadata": {},
     "output_type": "execute_result"
    }
   ],
   "source": [
    "catb_pipeline_cat_features.fit(X_train, y_train)"
   ]
  },
  {
   "cell_type": "code",
   "execution_count": 19,
   "metadata": {},
   "outputs": [
    {
     "data": {
      "text/plain": [
       "array([0.40029729, 0.24441118, 0.13580742, 0.04639617, 0.02159113,\n",
       "       0.78638343, 0.01453551, 0.08366922, 0.20418666, 0.89933209])"
      ]
     },
     "execution_count": 19,
     "metadata": {},
     "output_type": "execute_result"
    }
   ],
   "source": [
    "preds = catb_pipeline_cat_features.predict_proba(X_test)[:, 1]\n",
    "preds[:10]"
   ]
  },
  {
   "cell_type": "code",
   "execution_count": 20,
   "metadata": {},
   "outputs": [
    {
     "data": {
      "text/plain": [
       "(0.6487006737247353,\n",
       " 0.6358490566037736,\n",
       " 0.6620825147347741,\n",
       " 0.3510422212914368)"
      ]
     },
     "execution_count": 20,
     "metadata": {},
     "output_type": "execute_result"
    }
   ],
   "source": [
    "roc_auc, fscore, precision, recall, threshold = get_classifier_metrics(1, catb_pipeline_cat_features, y_test, preds)\n",
    "fscore, precision, recall, threshold"
   ]
  },
  {
   "cell_type": "code",
   "execution_count": 21,
   "metadata": {},
   "outputs": [
    {
     "data": {
      "text/plain": [
       "(1798, 173, 336, 193)"
      ]
     },
     "execution_count": 21,
     "metadata": {},
     "output_type": "execute_result"
    }
   ],
   "source": [
    "TN, FN, TP, FP, cnf_matrix = get_pred_rates(threshold, y_test, preds)\n",
    "TN, FN, TP, FP"
   ]
  },
  {
   "cell_type": "code",
   "execution_count": 22,
   "metadata": {},
   "outputs": [
    {
     "name": "stdout",
     "output_type": "stream",
     "text": [
      "Confusion matrix, without normalization\n",
      "[[1798  193]\n",
      " [ 173  336]]\n"
     ]
    },
    {
     "data": {
      "image/png": "[encoded data removed]",
      "text/plain": [
       "<Figure size 360x288 with 2 Axes>"
      ]
     },
     "metadata": {
      "needs_background": "light"
     },
     "output_type": "display_data"
    }
   ],
   "source": [
    "plt.figure(figsize=(5, 4))\n",
    "plot_confusion_matrix(cnf_matrix, classes=['NonChurn', 'Churn'], title='Confusion matrix')\n",
    "plt.show()"
   ]
  },
  {
   "cell_type": "code",
   "execution_count": 23,
   "metadata": {},
   "outputs": [
    {
     "data": {
      "text/plain": [
       "(143, -346)"
      ]
     },
     "execution_count": 23,
     "metadata": {},
     "output_type": "execute_result"
    }
   ],
   "source": [
    "total_profit = profit_calc(TP, FP, FN, cost_per_one = 1, rev_per_one = 2)\n",
    "total_profit"
   ]
  },
  {
   "cell_type": "markdown",
   "metadata": {},
   "source": [
    "При обработке категориальных фич на стороне классификатора мы выиграли в f1, но проиграли в выручке, при этом немного уменьшив FN, однако, сильно увеличив FP."
   ]
  },
  {
   "cell_type": "markdown",
   "metadata": {},
   "source": [
    "#### GridSearch"
   ]
  },
  {
   "cell_type": "code",
   "execution_count": 24,
   "metadata": {},
   "outputs": [],
   "source": [
    "params={'classifier__n_estimators':[100, 500, 1000, 2000], # default 1000\n",
    "        'classifier__max_leaves':[21, 31, 51], # default 31\n",
    "        'classifier__l2_leaf_reg' : [1e-3, 1e-2, 1e-1, 1, 2, 3], # default 3\n",
    "        'classifier__depth':[4, 6, 8, 10] #default 6\n",
    "        }"
   ]
  },
  {
   "cell_type": "code",
   "execution_count": 25,
   "metadata": {},
   "outputs": [
    {
     "name": "stdout",
     "output_type": "stream",
     "text": [
      "Fitting 25 folds for each of 10 candidates, totalling 250 fits\n"
     ]
    },
    {
     "name": "stderr",
     "output_type": "stream",
     "text": [
      "[Parallel(n_jobs=-1)]: Using backend LokyBackend with 12 concurrent workers.\n",
      "[Parallel(n_jobs=-1)]: Done   1 tasks      | elapsed:    3.5s\n",
      "[Parallel(n_jobs=-1)]: Done   8 tasks      | elapsed:    3.7s\n",
      "[Parallel(n_jobs=-1)]: Done  17 tasks      | elapsed:    3.9s\n",
      "[Parallel(n_jobs=-1)]: Done  26 tasks      | elapsed:    4.1s\n",
      "[Parallel(n_jobs=-1)]: Done  37 tasks      | elapsed:    4.2s\n",
      "[Parallel(n_jobs=-1)]: Done  48 tasks      | elapsed:    4.4s\n",
      "[Parallel(n_jobs=-1)]: Done  61 tasks      | elapsed:  2.2min\n",
      "[Parallel(n_jobs=-1)]: Done  74 tasks      | elapsed:  4.1min\n",
      "[Parallel(n_jobs=-1)]: Done  89 tasks      | elapsed:  4.2min\n",
      "[Parallel(n_jobs=-1)]: Done 104 tasks      | elapsed:  4.2min\n",
      "[Parallel(n_jobs=-1)]: Done 121 tasks      | elapsed:  4.2min\n",
      "[Parallel(n_jobs=-1)]: Done 138 tasks      | elapsed:  4.3min\n",
      "[Parallel(n_jobs=-1)]: Done 157 tasks      | elapsed:  4.3min\n",
      "[Parallel(n_jobs=-1)]: Done 176 tasks      | elapsed:  4.3min\n",
      "[Parallel(n_jobs=-1)]: Done 197 tasks      | elapsed:  4.3min\n",
      "[Parallel(n_jobs=-1)]: Done 218 tasks      | elapsed:  4.3min\n",
      "[Parallel(n_jobs=-1)]: Done 250 out of 250 | elapsed:  4.5min finished\n"
     ]
    }
   ],
   "source": [
    "# cv = RepeatedStratifiedKFold(n_splits = 5, n_repeats = 5, random_state = 42)\n",
    "# rs = RandomizedSearchCV(catb_pipeline_cat_features, params, n_jobs = -1, scoring = 'f1', cv = cv, verbose = 10)\n",
    "\n",
    "# search = rs.fit(X_train, y_train)\n"
   ]
  },
  {
   "cell_type": "code",
   "execution_count": 26,
   "metadata": {},
   "outputs": [
    {
     "data": {
      "text/plain": [
       "({'classifier__n_estimators': 500,\n",
       "  'classifier__max_leaves': 31,\n",
       "  'classifier__l2_leaf_reg': 3,\n",
       "  'classifier__depth': 8},\n",
       " 0.5838026168461833)"
      ]
     },
     "execution_count": 26,
     "metadata": {},
     "output_type": "execute_result"
    }
   ],
   "source": [
    "# search.best_params_, search.best_score_"
   ]
  },
  {
   "cell_type": "markdown",
   "metadata": {},
   "source": [
    "#### Final model"
   ]
  },
  {
   "cell_type": "code",
   "execution_count": 27,
   "metadata": {},
   "outputs": [],
   "source": [
    "pipeline_final = Pipeline([\n",
    "    ('features', catb_feats),\n",
    "    ('make_df', ArrToDf(columns = all_columns)),\n",
    "    ('classifier', catb.CatBoostClassifier(silent = True, n_estimators = 500, max_leaves = 31, l2_leaf_reg = 3, depth = 8, cat_features = categorical_columns, random_state = 42)),\n",
    "#     ('classifier', catb.CatBoostClassifier(silent = True, n_estimators = 2000, max_leaves = 31, l2_leaf_reg = 0.001, depth = 4, cat_features = categorical_columns, random_state = 42)),\n",
    "])"
   ]
  },
  {
   "cell_type": "code",
   "execution_count": 28,
   "metadata": {},
   "outputs": [
    {
     "data": {
      "text/plain": [
       "Pipeline(steps=[('features',\n",
       "                 FeatureUnion(transformer_list=[('Geography',\n",
       "                                                 Pipeline(steps=[('selector',\n",
       "                                                                  NumberSelector(key='Geography'))])),\n",
       "                                                ('Gender',\n",
       "                                                 Pipeline(steps=[('selector',\n",
       "                                                                  NumberSelector(key='Gender'))])),\n",
       "                                                ('Tenure',\n",
       "                                                 Pipeline(steps=[('selector',\n",
       "                                                                  NumberSelector(key='Tenure'))])),\n",
       "                                                ('HasCrCard',\n",
       "                                                 Pipeline(steps=[('selector',\n",
       "                                                                  NumberSelector(key='HasCrCard')...\n",
       "                                                ('EstimatedSalary',\n",
       "                                                 Pipeline(steps=[('selector',\n",
       "                                                                  NumberSelector(key='EstimatedSalary')),\n",
       "                                                                 ('standard',\n",
       "                                                                  StandardScaler())]))])),\n",
       "                ('make_df',\n",
       "                 ArrToDf(columns=['Geography', 'Gender', 'Tenure', 'HasCrCard',\n",
       "                                  'IsActiveMember', 'CreditScore', 'Age',\n",
       "                                  'Balance', 'NumOfProducts',\n",
       "                                  'EstimatedSalary'])),\n",
       "                ('classifier',\n",
       "                 <catboost.core.CatBoostClassifier object at 0x000001C583DD6788>)])"
      ]
     },
     "execution_count": 28,
     "metadata": {},
     "output_type": "execute_result"
    }
   ],
   "source": [
    "pipeline_final.fit(X_train, y_train)"
   ]
  },
  {
   "cell_type": "code",
   "execution_count": 29,
   "metadata": {},
   "outputs": [
    {
     "data": {
      "text/plain": [
       "array([0.33773597, 0.25515941, 0.139047  , 0.04654424, 0.02089156,\n",
       "       0.78412287, 0.00936777, 0.10745681, 0.19546456, 0.88949994])"
      ]
     },
     "execution_count": 29,
     "metadata": {},
     "output_type": "execute_result"
    }
   ],
   "source": [
    "#наши прогнозы для тестовой выборки\n",
    "preds = pipeline_final.predict_proba(X_test)[:, 1]\n",
    "preds[:10]"
   ]
  },
  {
   "cell_type": "code",
   "execution_count": 30,
   "metadata": {},
   "outputs": [],
   "source": [
    "roc_auc, fscore, precision, recall, threshold = get_classifier_metrics(1, pipeline_final, y_test, preds)"
   ]
  },
  {
   "cell_type": "code",
   "execution_count": 31,
   "metadata": {},
   "outputs": [
    {
     "data": {
      "text/plain": [
       "(0.6486486486486486,\n",
       " 0.6612244897959184,\n",
       " 0.6365422396856582,\n",
       " 0.3715607480116914)"
      ]
     },
     "execution_count": 31,
     "metadata": {},
     "output_type": "execute_result"
    }
   ],
   "source": [
    "fscore, precision, recall, threshold"
   ]
  },
  {
   "cell_type": "code",
   "execution_count": 32,
   "metadata": {},
   "outputs": [
    {
     "data": {
      "text/plain": [
       "(1825, 186, 323, 166)"
      ]
     },
     "execution_count": 32,
     "metadata": {},
     "output_type": "execute_result"
    }
   ],
   "source": [
    "TN, FN, TP, FP, cnf_matrix = get_pred_rates(threshold, y_test, preds)\n",
    "TN, FN, TP, FP"
   ]
  },
  {
   "cell_type": "code",
   "execution_count": 33,
   "metadata": {},
   "outputs": [
    {
     "name": "stdout",
     "output_type": "stream",
     "text": [
      "Confusion matrix, without normalization\n",
      "[[1825  166]\n",
      " [ 186  323]]\n"
     ]
    },
    {
     "data": {
      "image/png": "[encoded data removed]",
      "text/plain": [
       "<Figure size 360x288 with 2 Axes>"
      ]
     },
     "metadata": {
      "needs_background": "light"
     },
     "output_type": "display_data"
    }
   ],
   "source": [
    "plt.figure(figsize=(5, 4))\n",
    "plot_confusion_matrix(cnf_matrix, classes=['NonChurn', 'Churn'], title='Confusion matrix')\n",
    "plt.show()"
   ]
  },
  {
   "cell_type": "code",
   "execution_count": 34,
   "metadata": {},
   "outputs": [
    {
     "data": {
      "text/plain": [
       "(157, -372)"
      ]
     },
     "execution_count": 34,
     "metadata": {},
     "output_type": "execute_result"
    }
   ],
   "source": [
    "total_profit = profit_calc(TP, FP, FN, cost_per_one = 1, rev_per_one = 2)\n",
    "total_profit"
   ]
  },
  {
   "cell_type": "markdown",
   "metadata": {},
   "source": [
    "f-score практически не изменился по сравнению с базовым алгоритмом с категориальными фичами, выручка модели немного выросла"
   ]
  },
  {
   "cell_type": "code",
   "execution_count": 35,
   "metadata": {},
   "outputs": [],
   "source": [
    "def get_maxprofit_metrics(b, classifier, y_test, y_score):\n",
    "    precision, recall, thresholds = precision_recall_curve(y_test.values, y_score)\n",
    "    fscore = (1+b**2)*(precision * recall) / (b**2*precision + recall)\n",
    "    \n",
    "    profit = []\n",
    "    loss = []\n",
    "    for th in thresholds:\n",
    "        cnf_matrix = confusion_matrix(y_test, y_score > th)\n",
    "\n",
    "        TN = cnf_matrix[0][0]\n",
    "        FN = cnf_matrix[1][0]\n",
    "        TP = cnf_matrix[1][1]\n",
    "        FP = cnf_matrix[0][1]\n",
    "\n",
    "        total_profit, total_loss = profit_calc(TP, FP, FN, cost_per_one = 1, rev_per_one = 2)\n",
    "        profit.append(total_profit)\n",
    "        loss.append(total_loss)\n",
    "#     locate the index of the largest f score\n",
    "    ix = np.argmax(profit)\n",
    "\n",
    "    return thresholds[ix], profit[ix], loss[ix], fscore[ix], precision[ix], recall[ix]"
   ]
  },
  {
   "cell_type": "code",
   "execution_count": 36,
   "metadata": {},
   "outputs": [
    {
     "data": {
      "text/plain": [
       "(0.5329656051009825,\n",
       " 190,\n",
       " -484,\n",
       " 0.6252927400468384,\n",
       " 0.7739130434782608,\n",
       " 0.5245579567779961)"
      ]
     },
     "execution_count": 36,
     "metadata": {},
     "output_type": "execute_result"
    }
   ],
   "source": [
    "get_maxprofit_metrics(1, pipeline_final, y_test, preds)"
   ]
  },
  {
   "cell_type": "code",
   "execution_count": 37,
   "metadata": {},
   "outputs": [
    {
     "data": {
      "text/plain": [
       "roc_auc              0.876942\n",
       "fscore               0.646586\n",
       "precision            0.661191\n",
       "recall               0.632613\n",
       "TN                1826.000000\n",
       "FN                 188.000000\n",
       "TP                 321.000000\n",
       "FP                 165.000000\n",
       "total_profit       156.000000\n",
       "total_lost_inc    -376.000000\n",
       "Name: model_<catboost.core.CatBoostClassifier object at 0x000001C58077DC08>, dtype: float64"
      ]
     },
     "execution_count": 37,
     "metadata": {},
     "output_type": "execute_result"
    }
   ],
   "source": [
    "models_compare.iloc[2]"
   ]
  },
  {
   "cell_type": "markdown",
   "metadata": {},
   "source": [
    "Еще немного улучшили экономические метрики, выбрав трешхолд по максимальной выручке, но при этом мы пропускаем больше объектов положительного класса"
   ]
  },
  {
   "cell_type": "markdown",
   "metadata": {},
   "source": [
    "#### Вывод: выбор максимальной DS метрики модели в реальной ситуации - далеко не гарантия максимальной экономической эффективности"
   ]
  }
 ],
 "metadata": {
  "kernelspec": {
   "display_name": "Python 3",
   "language": "python",
   "name": "python3"
  },
  "language_info": {
   "codemirror_mode": {
    "name": "ipython",
    "version": 3
   },
   "file_extension": ".py",
   "mimetype": "text/x-python",
   "name": "python",
   "nbconvert_exporter": "python",
   "pygments_lexer": "ipython3",
   "version": "3.7.9"
  }
 },
 "nbformat": 4,
 "nbformat_minor": 4
}
