{
 "cells": [
  {
   "cell_type": "code",
   "execution_count": 1,
   "metadata": {},
   "outputs": [],
   "source": [
    "import pandas as pd\n",
    "import numpy as np\n",
    "from sklearn.experimental import enable_iterative_imputer\n",
    "from sklearn.impute import IterativeImputer\n",
    "# from sklearn.pipeline import Pipeline, make_pipeline\n",
    "# from sklearn.base import BaseEstimator, TransformerMixin\n",
    "# from sklearn.pipeline import FeatureUnion\n",
    "\n",
    "# from sklearn.linear_model import LogisticRegression\n",
    "# from sklearn.ensemble import RandomForestClassifier\n",
    "import lightgbm as lgbm\n",
    "# import catboost as catb\n",
    "\n",
    "from sklearn.model_selection import train_test_split\n",
    "from sklearn.metrics import precision_recall_curve, roc_curve, roc_auc_score, confusion_matrix, log_loss\n",
    "from sklearn.metrics import classification_report, f1_score, precision_score, recall_score\n",
    "from sklearn.model_selection import cross_val_score, train_test_split\n",
    "from sklearn.preprocessing import StandardScaler\n",
    "from sklearn.model_selection import RepeatedStratifiedKFold, GridSearchCV\n",
    "import itertools\n",
    "\n",
    "import matplotlib.pyplot as plt\n",
    "import seaborn as sns\n",
    "%matplotlib inline"
   ]
  },
  {
   "cell_type": "code",
   "execution_count": 2,
   "metadata": {},
   "outputs": [
    {
     "data": {
      "text/html": [
       "<div>\n",
       "<style scoped>\n",
       "    .dataframe tbody tr th:only-of-type {\n",
       "        vertical-align: middle;\n",
       "    }\n",
       "\n",
       "    .dataframe tbody tr th {\n",
       "        vertical-align: top;\n",
       "    }\n",
       "\n",
       "    .dataframe thead th {\n",
       "        text-align: right;\n",
       "    }\n",
       "</style>\n",
       "<table border=\"1\" class=\"dataframe\">\n",
       "  <thead>\n",
       "    <tr style=\"text-align: right;\">\n",
       "      <th></th>\n",
       "      <th>Home Ownership</th>\n",
       "      <th>Annual Income</th>\n",
       "      <th>Years in current job</th>\n",
       "      <th>Tax Liens</th>\n",
       "      <th>Number of Open Accounts</th>\n",
       "      <th>Years of Credit History</th>\n",
       "      <th>Maximum Open Credit</th>\n",
       "      <th>Number of Credit Problems</th>\n",
       "      <th>Months since last delinquent</th>\n",
       "      <th>Bankruptcies</th>\n",
       "      <th>Purpose</th>\n",
       "      <th>Term</th>\n",
       "      <th>Current Loan Amount</th>\n",
       "      <th>Current Credit Balance</th>\n",
       "      <th>Monthly Debt</th>\n",
       "      <th>Credit Score</th>\n",
       "      <th>Credit Default</th>\n",
       "    </tr>\n",
       "  </thead>\n",
       "  <tbody>\n",
       "    <tr>\n",
       "      <th>0</th>\n",
       "      <td>Own Home</td>\n",
       "      <td>482087.0</td>\n",
       "      <td>NaN</td>\n",
       "      <td>0.0</td>\n",
       "      <td>11.0</td>\n",
       "      <td>26.3</td>\n",
       "      <td>685960.0</td>\n",
       "      <td>1.0</td>\n",
       "      <td>NaN</td>\n",
       "      <td>1.0</td>\n",
       "      <td>debt consolidation</td>\n",
       "      <td>Short Term</td>\n",
       "      <td>99999999.0</td>\n",
       "      <td>47386.0</td>\n",
       "      <td>7914.0</td>\n",
       "      <td>749.0</td>\n",
       "      <td>0</td>\n",
       "    </tr>\n",
       "    <tr>\n",
       "      <th>1</th>\n",
       "      <td>Own Home</td>\n",
       "      <td>1025487.0</td>\n",
       "      <td>10+ years</td>\n",
       "      <td>0.0</td>\n",
       "      <td>15.0</td>\n",
       "      <td>15.3</td>\n",
       "      <td>1181730.0</td>\n",
       "      <td>0.0</td>\n",
       "      <td>NaN</td>\n",
       "      <td>0.0</td>\n",
       "      <td>debt consolidation</td>\n",
       "      <td>Long Term</td>\n",
       "      <td>264968.0</td>\n",
       "      <td>394972.0</td>\n",
       "      <td>18373.0</td>\n",
       "      <td>737.0</td>\n",
       "      <td>1</td>\n",
       "    </tr>\n",
       "    <tr>\n",
       "      <th>2</th>\n",
       "      <td>Home Mortgage</td>\n",
       "      <td>751412.0</td>\n",
       "      <td>8 years</td>\n",
       "      <td>0.0</td>\n",
       "      <td>11.0</td>\n",
       "      <td>35.0</td>\n",
       "      <td>1182434.0</td>\n",
       "      <td>0.0</td>\n",
       "      <td>NaN</td>\n",
       "      <td>0.0</td>\n",
       "      <td>debt consolidation</td>\n",
       "      <td>Short Term</td>\n",
       "      <td>99999999.0</td>\n",
       "      <td>308389.0</td>\n",
       "      <td>13651.0</td>\n",
       "      <td>742.0</td>\n",
       "      <td>0</td>\n",
       "    </tr>\n",
       "    <tr>\n",
       "      <th>3</th>\n",
       "      <td>Own Home</td>\n",
       "      <td>805068.0</td>\n",
       "      <td>6 years</td>\n",
       "      <td>0.0</td>\n",
       "      <td>8.0</td>\n",
       "      <td>22.5</td>\n",
       "      <td>147400.0</td>\n",
       "      <td>1.0</td>\n",
       "      <td>NaN</td>\n",
       "      <td>1.0</td>\n",
       "      <td>debt consolidation</td>\n",
       "      <td>Short Term</td>\n",
       "      <td>121396.0</td>\n",
       "      <td>95855.0</td>\n",
       "      <td>11338.0</td>\n",
       "      <td>694.0</td>\n",
       "      <td>0</td>\n",
       "    </tr>\n",
       "    <tr>\n",
       "      <th>4</th>\n",
       "      <td>Rent</td>\n",
       "      <td>776264.0</td>\n",
       "      <td>8 years</td>\n",
       "      <td>0.0</td>\n",
       "      <td>13.0</td>\n",
       "      <td>13.6</td>\n",
       "      <td>385836.0</td>\n",
       "      <td>1.0</td>\n",
       "      <td>NaN</td>\n",
       "      <td>0.0</td>\n",
       "      <td>debt consolidation</td>\n",
       "      <td>Short Term</td>\n",
       "      <td>125840.0</td>\n",
       "      <td>93309.0</td>\n",
       "      <td>7180.0</td>\n",
       "      <td>719.0</td>\n",
       "      <td>0</td>\n",
       "    </tr>\n",
       "  </tbody>\n",
       "</table>\n",
       "</div>"
      ],
      "text/plain": [
       "  Home Ownership  Annual Income Years in current job  Tax Liens  \\\n",
       "0       Own Home       482087.0                  NaN        0.0   \n",
       "1       Own Home      1025487.0            10+ years        0.0   \n",
       "2  Home Mortgage       751412.0              8 years        0.0   \n",
       "3       Own Home       805068.0              6 years        0.0   \n",
       "4           Rent       776264.0              8 years        0.0   \n",
       "\n",
       "   Number of Open Accounts  Years of Credit History  Maximum Open Credit  \\\n",
       "0                     11.0                     26.3             685960.0   \n",
       "1                     15.0                     15.3            1181730.0   \n",
       "2                     11.0                     35.0            1182434.0   \n",
       "3                      8.0                     22.5             147400.0   \n",
       "4                     13.0                     13.6             385836.0   \n",
       "\n",
       "   Number of Credit Problems  Months since last delinquent  Bankruptcies  \\\n",
       "0                        1.0                           NaN           1.0   \n",
       "1                        0.0                           NaN           0.0   \n",
       "2                        0.0                           NaN           0.0   \n",
       "3                        1.0                           NaN           1.0   \n",
       "4                        1.0                           NaN           0.0   \n",
       "\n",
       "              Purpose        Term  Current Loan Amount  \\\n",
       "0  debt consolidation  Short Term           99999999.0   \n",
       "1  debt consolidation   Long Term             264968.0   \n",
       "2  debt consolidation  Short Term           99999999.0   \n",
       "3  debt consolidation  Short Term             121396.0   \n",
       "4  debt consolidation  Short Term             125840.0   \n",
       "\n",
       "   Current Credit Balance  Monthly Debt  Credit Score  Credit Default  \n",
       "0                 47386.0        7914.0         749.0               0  \n",
       "1                394972.0       18373.0         737.0               1  \n",
       "2                308389.0       13651.0         742.0               0  \n",
       "3                 95855.0       11338.0         694.0               0  \n",
       "4                 93309.0        7180.0         719.0               0  "
      ]
     },
     "execution_count": 2,
     "metadata": {},
     "output_type": "execute_result"
    }
   ],
   "source": [
    "df = pd.read_csv('course_project_train.csv')\n",
    "df.head(5)"
   ]
  },
  {
   "cell_type": "markdown",
   "metadata": {},
   "source": [
    "**Описание датасета**\n",
    "\n",
    "* **Home Ownership** - домовладение\n",
    "* **Annual Income** - годовой доход\n",
    "* **Years in current job** - количество лет на текущем месте работы\n",
    "* **Tax Liens** - налоговые льготы\n",
    "* **Number of Open Accounts** - количество открытых счетов\n",
    "* **Years of Credit History** - количество лет кредитной истории\n",
    "* **Maximum Open Credit** - наибольший открытый кредит\n",
    "* **Number of Credit Problems** - количество проблем с кредитом\n",
    "* **Months since last delinquent** - количество месяцев с последней просрочки платежа\n",
    "* **Bankruptcies** - банкротства\n",
    "* **Purpose** - цель кредита\n",
    "* **Term** - срок кредита\n",
    "* **Current Loan Amount** - текущая сумма кредита\n",
    "* **Current Credit Balance** - текущий кредитный баланс\n",
    "* **Monthly Debt** - ежемесячный долг\n",
    "* **Credit Default** - факт невыполнения кредитных обязательств (0 - погашен вовремя, 1 - просрочка)"
   ]
  },
  {
   "cell_type": "code",
   "execution_count": 3,
   "metadata": {},
   "outputs": [
    {
     "data": {
      "text/plain": [
       "0    0.718267\n",
       "1    0.281733\n",
       "Name: Credit Default, dtype: float64"
      ]
     },
     "execution_count": 3,
     "metadata": {},
     "output_type": "execute_result"
    }
   ],
   "source": [
    "df['Credit Default'].value_counts(normalize=True)"
   ]
  },
  {
   "cell_type": "code",
   "execution_count": 4,
   "metadata": {},
   "outputs": [
    {
     "name": "stdout",
     "output_type": "stream",
     "text": [
      "<class 'pandas.core.frame.DataFrame'>\n",
      "RangeIndex: 7500 entries, 0 to 7499\n",
      "Data columns (total 17 columns):\n",
      " #   Column                        Non-Null Count  Dtype  \n",
      "---  ------                        --------------  -----  \n",
      " 0   Home Ownership                7500 non-null   object \n",
      " 1   Annual Income                 5943 non-null   float64\n",
      " 2   Years in current job          7129 non-null   object \n",
      " 3   Tax Liens                     7500 non-null   float64\n",
      " 4   Number of Open Accounts       7500 non-null   float64\n",
      " 5   Years of Credit History       7500 non-null   float64\n",
      " 6   Maximum Open Credit           7500 non-null   float64\n",
      " 7   Number of Credit Problems     7500 non-null   float64\n",
      " 8   Months since last delinquent  3419 non-null   float64\n",
      " 9   Bankruptcies                  7486 non-null   float64\n",
      " 10  Purpose                       7500 non-null   object \n",
      " 11  Term                          7500 non-null   object \n",
      " 12  Current Loan Amount           7500 non-null   float64\n",
      " 13  Current Credit Balance        7500 non-null   float64\n",
      " 14  Monthly Debt                  7500 non-null   float64\n",
      " 15  Credit Score                  5943 non-null   float64\n",
      " 16  Credit Default                7500 non-null   int64  \n",
      "dtypes: float64(12), int64(1), object(4)\n",
      "memory usage: 996.2+ KB\n"
     ]
    }
   ],
   "source": [
    "df.info()"
   ]
  },
  {
   "cell_type": "code",
   "execution_count": 5,
   "metadata": {},
   "outputs": [],
   "source": [
    "def data_preprocessing(X):\n",
    "\n",
    "    X['Years in current job'] = X['Years in current job'].replace(regex = True, to_replace = r'\\W\\s\\D+$|\\s\\D+$', value = '').replace('< 1', 0)\n",
    "    X.loc[X['Years in current job'].isna(), 'Years in current job'] = df['Years in current job'].median()\n",
    "    X['Years in current job'] = X['Years in current job'].astype('int')\n",
    "\n",
    "    \n",
    "    for col in X.select_dtypes(include='object').columns:\n",
    "        X[col] = X[col].astype('category')\n",
    "\n",
    "    X.loc[X['Months since last delinquent'].isna(), 'Months since last delinquent'] = 99999999\n",
    "\n",
    "    X.loc[X['Bankruptcies'].isna(), 'Bankruptcies'] = df['Bankruptcies'].value_counts().idxmax()\n",
    "\n",
    "#     X.loc[X['Credit Score'] > 999, 'Credit Score'] = X.loc[X['Credit Score'] > 1000, 'Credit Score'] // 10\n",
    "    \n",
    "    return X"
   ]
  },
  {
   "cell_type": "code",
   "execution_count": 6,
   "metadata": {},
   "outputs": [],
   "source": [
    "df = data_preprocessing(df)"
   ]
  },
  {
   "cell_type": "code",
   "execution_count": 7,
   "metadata": {},
   "outputs": [],
   "source": [
    "df_cat = df.select_dtypes(include='category')\n",
    "df_num = df.select_dtypes(exclude='category')\n",
    "df_num = df_num.drop(['Credit Default'], axis = 1)\n",
    "df_target = df['Credit Default']"
   ]
  },
  {
   "cell_type": "code",
   "execution_count": 8,
   "metadata": {},
   "outputs": [],
   "source": [
    "## fill nan\n",
    "imputer = IterativeImputer(max_iter = 100)\n",
    "imp_arr = pd.DataFrame(imputer.fit_transform(df_num))\n",
    "imp_arr.columns = df_num.columns\n",
    "df = pd.concat([df_cat, imp_arr], axis = 1)\n",
    "df = pd.concat([df, df_target], axis = 1)"
   ]
  },
  {
   "cell_type": "code",
   "execution_count": 9,
   "metadata": {},
   "outputs": [
    {
     "name": "stdout",
     "output_type": "stream",
     "text": [
      "<class 'pandas.core.frame.DataFrame'>\n",
      "RangeIndex: 7500 entries, 0 to 7499\n",
      "Data columns (total 17 columns):\n",
      " #   Column                        Non-Null Count  Dtype   \n",
      "---  ------                        --------------  -----   \n",
      " 0   Home Ownership                7500 non-null   category\n",
      " 1   Purpose                       7500 non-null   category\n",
      " 2   Term                          7500 non-null   category\n",
      " 3   Annual Income                 7500 non-null   float64 \n",
      " 4   Years in current job          7500 non-null   float64 \n",
      " 5   Tax Liens                     7500 non-null   float64 \n",
      " 6   Number of Open Accounts       7500 non-null   float64 \n",
      " 7   Years of Credit History       7500 non-null   float64 \n",
      " 8   Maximum Open Credit           7500 non-null   float64 \n",
      " 9   Number of Credit Problems     7500 non-null   float64 \n",
      " 10  Months since last delinquent  7500 non-null   float64 \n",
      " 11  Bankruptcies                  7500 non-null   float64 \n",
      " 12  Current Loan Amount           7500 non-null   float64 \n",
      " 13  Current Credit Balance        7500 non-null   float64 \n",
      " 14  Monthly Debt                  7500 non-null   float64 \n",
      " 15  Credit Score                  7500 non-null   float64 \n",
      " 16  Credit Default                7500 non-null   int64   \n",
      "dtypes: category(3), float64(13), int64(1)\n",
      "memory usage: 843.4 KB\n"
     ]
    }
   ],
   "source": [
    "df.info()"
   ]
  },
  {
   "cell_type": "code",
   "execution_count": 10,
   "metadata": {},
   "outputs": [
    {
     "name": "stdout",
     "output_type": "stream",
     "text": [
      "Home Ownership\n",
      "\n",
      "Home Mortgage    3637\n",
      "Rent             3204\n",
      "Own Home          647\n",
      "Have Mortgage      12\n",
      "Name: Home Ownership, dtype: int64\n",
      "****************************************************************************************************\n",
      "\n",
      "Purpose\n",
      "\n",
      "debt consolidation      5944\n",
      "other                    665\n",
      "home improvements        412\n",
      "business loan            129\n",
      "buy a car                 96\n",
      "medical bills             71\n",
      "major purchase            40\n",
      "take a trip               37\n",
      "buy house                 34\n",
      "small business            26\n",
      "wedding                   15\n",
      "moving                    11\n",
      "educational expenses      10\n",
      "vacation                   8\n",
      "renewable energy           2\n",
      "Name: Purpose, dtype: int64\n",
      "****************************************************************************************************\n",
      "\n",
      "Term\n",
      "\n",
      "Short Term    5556\n",
      "Long Term     1944\n",
      "Name: Term, dtype: int64\n",
      "****************************************************************************************************\n",
      "\n"
     ]
    }
   ],
   "source": [
    "for cat_colname in df[df.columns].select_dtypes(include = 'category').columns:\n",
    "    print(str(cat_colname) + '\\n\\n' + str(df[cat_colname].value_counts()) + '\\n' + '*' * 100 + '\\n')"
   ]
  },
  {
   "cell_type": "code",
   "execution_count": 11,
   "metadata": {},
   "outputs": [
    {
     "data": {
      "image/png": "[encoded data removed]",
      "text/plain": [
       "<Figure size 576x360 with 1 Axes>"
      ]
     },
     "metadata": {
      "needs_background": "light"
     },
     "output_type": "display_data"
    }
   ],
   "source": [
    "corr_with_target = df[df.columns.drop('Credit Default').tolist() + ['Credit Default']].corr().iloc[:-1, -1].sort_values(ascending=False)\n",
    "\n",
    "plt.figure(figsize=(8, 5))\n",
    "sns.barplot(x=corr_with_target.values, y=corr_with_target.index)\n",
    "plt.title('Correlation with target variable');"
   ]
  },
  {
   "cell_type": "markdown",
   "metadata": {},
   "source": [
    "Корреляция некоторых фичей с таргетом достаточно сильная, может получиться хорошо разделимое пространство"
   ]
  },
  {
   "cell_type": "code",
   "execution_count": 12,
   "metadata": {},
   "outputs": [],
   "source": [
    "TARGET_NAME = 'Credit Default'\n",
    "FEATURE_NAMES = df.columns.drop(TARGET_NAME).tolist()\n",
    "CAT_FEATURE_NAMES = [col for col in df.select_dtypes(include='category').columns]\n",
    "NUM_FEATURE_NAMES = [col for col in df.select_dtypes(include='float64').columns]"
   ]
  },
  {
   "cell_type": "code",
   "execution_count": 13,
   "metadata": {},
   "outputs": [
    {
     "data": {
      "text/plain": [
       "['Annual Income',\n",
       " 'Years in current job',\n",
       " 'Tax Liens',\n",
       " 'Number of Open Accounts',\n",
       " 'Years of Credit History',\n",
       " 'Maximum Open Credit',\n",
       " 'Number of Credit Problems',\n",
       " 'Months since last delinquent',\n",
       " 'Bankruptcies',\n",
       " 'Current Loan Amount',\n",
       " 'Current Credit Balance',\n",
       " 'Monthly Debt',\n",
       " 'Credit Score']"
      ]
     },
     "execution_count": 13,
     "metadata": {},
     "output_type": "execute_result"
    }
   ],
   "source": [
    "NUM_FEATURE_NAMES"
   ]
  },
  {
   "cell_type": "code",
   "execution_count": 14,
   "metadata": {},
   "outputs": [
    {
     "name": "stdout",
     "output_type": "stream",
     "text": [
      "<class 'pandas.core.frame.DataFrame'>\n",
      "RangeIndex: 7500 entries, 0 to 7499\n",
      "Data columns (total 17 columns):\n",
      " #   Column                        Non-Null Count  Dtype   \n",
      "---  ------                        --------------  -----   \n",
      " 0   Home Ownership                7500 non-null   category\n",
      " 1   Purpose                       7500 non-null   category\n",
      " 2   Term                          7500 non-null   category\n",
      " 3   Annual Income                 7500 non-null   float64 \n",
      " 4   Years in current job          7500 non-null   float64 \n",
      " 5   Tax Liens                     7500 non-null   float64 \n",
      " 6   Number of Open Accounts       7500 non-null   float64 \n",
      " 7   Years of Credit History       7500 non-null   float64 \n",
      " 8   Maximum Open Credit           7500 non-null   float64 \n",
      " 9   Number of Credit Problems     7500 non-null   float64 \n",
      " 10  Months since last delinquent  7500 non-null   float64 \n",
      " 11  Bankruptcies                  7500 non-null   float64 \n",
      " 12  Current Loan Amount           7500 non-null   float64 \n",
      " 13  Current Credit Balance        7500 non-null   float64 \n",
      " 14  Monthly Debt                  7500 non-null   float64 \n",
      " 15  Credit Score                  7500 non-null   float64 \n",
      " 16  Credit Default                7500 non-null   int64   \n",
      "dtypes: category(3), float64(13), int64(1)\n",
      "memory usage: 843.4 KB\n"
     ]
    }
   ],
   "source": [
    "scaler = StandardScaler()\n",
    "\n",
    "df_norm = df.copy()\n",
    "df_norm[NUM_FEATURE_NAMES] = scaler.fit_transform(df_norm[NUM_FEATURE_NAMES])\n",
    "df_norm.info()"
   ]
  },
  {
   "cell_type": "code",
   "execution_count": null,
   "metadata": {},
   "outputs": [],
   "source": []
  },
  {
   "cell_type": "code",
   "execution_count": 15,
   "metadata": {},
   "outputs": [],
   "source": [
    "#разделим данные на train/test\n",
    "X = df_norm[NUM_FEATURE_NAMES + CAT_FEATURE_NAMES]\n",
    "y = df_norm[TARGET_NAME]\n",
    "X_train, X_test, y_train, y_test = train_test_split(X, y, random_state = 42)"
   ]
  },
  {
   "cell_type": "code",
   "execution_count": 16,
   "metadata": {},
   "outputs": [
    {
     "data": {
      "text/plain": [
       "((5625, 16), (5625,), (1875, 16), (1875,))"
      ]
     },
     "execution_count": 16,
     "metadata": {},
     "output_type": "execute_result"
    }
   ],
   "source": [
    "X_train.shape, y_train.shape, X_test.shape, y_test.shape"
   ]
  },
  {
   "cell_type": "code",
   "execution_count": 17,
   "metadata": {},
   "outputs": [
    {
     "name": "stderr",
     "output_type": "stream",
     "text": [
      "C:\\Users\\snetkova\\Anaconda3\\lib\\site-packages\\lightgbm\\basic.py:1247: UserWarning: categorical_feature in Dataset is overridden.\n",
      "New categorical_feature is ['Home Ownership', 'Purpose', 'Term']\n",
      "  'New categorical_feature is {}'.format(sorted(list(categorical_feature))))\n"
     ]
    }
   ],
   "source": [
    "model = lgbm.LGBMClassifier(reg_alpha = 1, num_leaves = 16, max_depth = 14, n_estimators = 100, boosting_type = 'goss', random_state = 42)\n",
    "model.fit(X_train, y_train, categorical_feature = CAT_FEATURE_NAMES)\n",
    "y_pred = model.predict(X_test)\n",
    "y_pred_probs = model.predict_proba(X_test)[:, 1]"
   ]
  },
  {
   "cell_type": "code",
   "execution_count": 18,
   "metadata": {},
   "outputs": [],
   "source": [
    "res = {}\n",
    "# res_probs = {}"
   ]
  },
  {
   "cell_type": "code",
   "execution_count": 19,
   "metadata": {},
   "outputs": [],
   "source": [
    "# def get_classifier_metrics(y_test, y_score):\n",
    "#     b = 1\n",
    "#     precision, recall, thresholds = precision_recall_curve(y_test.values, y_score)\n",
    "#     fscore = (1+b**2)*(precision * recall) / (b**2*precision + recall)\n",
    "#     # locate the index of the largest f score\n",
    "#     ix = np.argmax(fscore)\n",
    "\n",
    "#     roc_auc = roc_auc_score(y_true=y_test, y_score = y_score)\n",
    "#     return roc_auc, fscore[ix], precision[ix], recall[ix], thresholds[ix]"
   ]
  },
  {
   "cell_type": "code",
   "execution_count": 20,
   "metadata": {},
   "outputs": [],
   "source": [
    "def evaluate_results(y_test, y_predict):\n",
    "    f1 = f1_score(y_test, y_predict)\n",
    "    roc = roc_auc_score(y_test, y_predict)\n",
    "    rec = recall_score(y_test, y_predict, average='binary')\n",
    "    prc = precision_score(y_test, y_predict, average='binary')\n",
    "\n",
    "    return roc, f1, prc, rec"
   ]
  },
  {
   "cell_type": "code",
   "execution_count": 21,
   "metadata": {},
   "outputs": [
    {
     "data": {
      "text/plain": [
       "{'labeled_data': [0.6390969852528642,\n",
       "  0.4645308924485126,\n",
       "  0.6506410256410257,\n",
       "  0.3612099644128114]}"
      ]
     },
     "execution_count": 21,
     "metadata": {},
     "output_type": "execute_result"
    }
   ],
   "source": [
    "res['labeled_data'] = list(evaluate_results(y_test, y_pred))\n",
    "res"
   ]
  },
  {
   "cell_type": "code",
   "execution_count": 22,
   "metadata": {},
   "outputs": [],
   "source": [
    "# res_probs['labeled_data'] = list(get_classifier_metrics(y_test, y_pred_probs))\n",
    "# res"
   ]
  },
  {
   "cell_type": "markdown",
   "metadata": {},
   "source": [
    "### PU learning"
   ]
  },
  {
   "cell_type": "code",
   "execution_count": 23,
   "metadata": {},
   "outputs": [],
   "source": [
    "def mod_data(data, p):\n",
    "    mod_data = data.copy()\n",
    "    #get the indices of the positives samples\n",
    "    pos_ind = np.where(mod_data.iloc[:,-1].values == 1)[0]\n",
    "    #shuffle them\n",
    "    np.random.shuffle(pos_ind)\n",
    "    # leave just p% of the positives marked\n",
    "    pos_sample_len = int(np.ceil(p * len(pos_ind)))\n",
    "#     print(f'Using {pos_sample_len}/{len(pos_ind)} as positives and unlabeling the rest')\n",
    "    pos_sample = pos_ind[:pos_sample_len]\n",
    "    \n",
    "#     mod_data['class_test'] = -1\n",
    "    mod_data['class_test'] = 0\n",
    "    mod_data.loc[pos_sample,'class_test'] = 1\n",
    "#     print('target variable:\\n', mod_data.iloc[:,-1].value_counts())\n",
    "    \n",
    "    return mod_data"
   ]
  },
  {
   "cell_type": "code",
   "execution_count": 24,
   "metadata": {},
   "outputs": [],
   "source": [
    "def get_samples(mod_data):\n",
    "    mod_data = mod_data.sample(frac=1)\n",
    "    neg_sample = mod_data[mod_data['class_test']== 0][:len(mod_data[mod_data['class_test']==1])]\n",
    "    sample_test = mod_data[mod_data['class_test']== 0][len(mod_data[mod_data['class_test']==1]):]\n",
    "    pos_sample = mod_data[mod_data['class_test']== 1]\n",
    "#     print(neg_sample.shape, pos_sample.shape)\n",
    "    sample_train = pd.concat([neg_sample, pos_sample]).sample(frac=1)\n",
    "    \n",
    "    return sample_train, sample_test"
   ]
  },
  {
   "cell_type": "code",
   "execution_count": 25,
   "metadata": {},
   "outputs": [],
   "source": [
    "# df_mod = mod_data(df, 0.25)\n",
    "# df_mod"
   ]
  },
  {
   "cell_type": "code",
   "execution_count": 26,
   "metadata": {},
   "outputs": [],
   "source": [
    "# x_data = df_mod.drop(['Credit Default', 'class_test'], axis = 1) # just the X \n",
    "# y_labeled = df_mod['class_test'] # new class (just the P & U)\n",
    "# y_positive = df_mod['Credit Default'] # original class\n",
    "# x_data.shape, y_labeled.shape, y_positive.shape, y_labeled.unique()"
   ]
  },
  {
   "cell_type": "code",
   "execution_count": 27,
   "metadata": {},
   "outputs": [],
   "source": [
    "# sample_train, sample_test = get_samples(df_mod)"
   ]
  },
  {
   "cell_type": "code",
   "execution_count": 28,
   "metadata": {},
   "outputs": [],
   "source": [
    "# model.fit(sample_train.drop(['Credit Default', 'class_test'], axis = 1), \n",
    "#           sample_train['class_test'], categorical_feature = CAT_FEATURE_NAMES)\n",
    "# y_predict = model.predict(sample_test.drop(['Credit Default', 'class_test'], axis = 1))\n",
    "# evaluate_results(sample_test['Credit Default'], y_predict)"
   ]
  },
  {
   "cell_type": "code",
   "execution_count": 29,
   "metadata": {},
   "outputs": [
    {
     "name": "stderr",
     "output_type": "stream",
     "text": [
      "C:\\Users\\snetkova\\Anaconda3\\lib\\site-packages\\lightgbm\\basic.py:1247: UserWarning: categorical_feature in Dataset is overridden.\n",
      "New categorical_feature is ['Home Ownership', 'Purpose', 'Term']\n",
      "  'New categorical_feature is {}'.format(sorted(list(categorical_feature))))\n",
      "C:\\Users\\snetkova\\Anaconda3\\lib\\site-packages\\lightgbm\\basic.py:1247: UserWarning: categorical_feature in Dataset is overridden.\n",
      "New categorical_feature is ['Home Ownership', 'Purpose', 'Term']\n",
      "  'New categorical_feature is {}'.format(sorted(list(categorical_feature))))\n",
      "C:\\Users\\snetkova\\Anaconda3\\lib\\site-packages\\lightgbm\\basic.py:1247: UserWarning: categorical_feature in Dataset is overridden.\n",
      "New categorical_feature is ['Home Ownership', 'Purpose', 'Term']\n",
      "  'New categorical_feature is {}'.format(sorted(list(categorical_feature))))\n",
      "C:\\Users\\snetkova\\Anaconda3\\lib\\site-packages\\lightgbm\\basic.py:1247: UserWarning: categorical_feature in Dataset is overridden.\n",
      "New categorical_feature is ['Home Ownership', 'Purpose', 'Term']\n",
      "  'New categorical_feature is {}'.format(sorted(list(categorical_feature))))\n",
      "C:\\Users\\snetkova\\Anaconda3\\lib\\site-packages\\lightgbm\\basic.py:1247: UserWarning: categorical_feature in Dataset is overridden.\n",
      "New categorical_feature is ['Home Ownership', 'Purpose', 'Term']\n",
      "  'New categorical_feature is {}'.format(sorted(list(categorical_feature))))\n",
      "C:\\Users\\snetkova\\Anaconda3\\lib\\site-packages\\lightgbm\\basic.py:1247: UserWarning: categorical_feature in Dataset is overridden.\n",
      "New categorical_feature is ['Home Ownership', 'Purpose', 'Term']\n",
      "  'New categorical_feature is {}'.format(sorted(list(categorical_feature))))\n",
      "C:\\Users\\snetkova\\Anaconda3\\lib\\site-packages\\lightgbm\\basic.py:1247: UserWarning: categorical_feature in Dataset is overridden.\n",
      "New categorical_feature is ['Home Ownership', 'Purpose', 'Term']\n",
      "  'New categorical_feature is {}'.format(sorted(list(categorical_feature))))\n",
      "C:\\Users\\snetkova\\Anaconda3\\lib\\site-packages\\lightgbm\\basic.py:1247: UserWarning: categorical_feature in Dataset is overridden.\n",
      "New categorical_feature is ['Home Ownership', 'Purpose', 'Term']\n",
      "  'New categorical_feature is {}'.format(sorted(list(categorical_feature))))\n",
      "C:\\Users\\snetkova\\Anaconda3\\lib\\site-packages\\lightgbm\\basic.py:1247: UserWarning: categorical_feature in Dataset is overridden.\n",
      "New categorical_feature is ['Home Ownership', 'Purpose', 'Term']\n",
      "  'New categorical_feature is {}'.format(sorted(list(categorical_feature))))\n"
     ]
    }
   ],
   "source": [
    "for P in [0.10, 0.20, 0.30, 0.40, 0.50, 0.60, 0.70, 0.8, 0.9]:\n",
    "    df_mod = mod_data(df, P)\n",
    "    sample_train, sample_test = get_samples(df_mod)\n",
    "    model.fit(sample_train.drop(['Credit Default', 'class_test'], axis = 1), sample_train['class_test'], categorical_feature = CAT_FEATURE_NAMES)\n",
    "    y_predict = model.predict(sample_test.drop(['Credit Default', 'class_test'], axis = 1))\n",
    "    y_predict_probs = model.predict_proba(sample_test.drop(['Credit Default', 'class_test'], axis = 1))[:, 1]\n",
    "#     evaluate_results(sample_test['Credit Default'], y_predict)\n",
    "    \n",
    "    res['pos_labeled_P=' + format(P)] = list(evaluate_results(sample_test['Credit Default'], y_predict))\n",
    "#     res_probs['pos_labeled_P=' + format(P)] = list(get_classifier_metrics(sample_test['Credit Default'], y_predict_probs))"
   ]
  },
  {
   "cell_type": "code",
   "execution_count": 30,
   "metadata": {},
   "outputs": [
    {
     "data": {
      "text/html": [
       "<div>\n",
       "<style scoped>\n",
       "    .dataframe tbody tr th:only-of-type {\n",
       "        vertical-align: middle;\n",
       "    }\n",
       "\n",
       "    .dataframe tbody tr th {\n",
       "        vertical-align: top;\n",
       "    }\n",
       "\n",
       "    .dataframe thead th {\n",
       "        text-align: right;\n",
       "    }\n",
       "</style>\n",
       "<table border=\"1\" class=\"dataframe\">\n",
       "  <thead>\n",
       "    <tr style=\"text-align: right;\">\n",
       "      <th></th>\n",
       "      <th>roc_auc</th>\n",
       "      <th>fscore</th>\n",
       "      <th>precision</th>\n",
       "      <th>recall</th>\n",
       "    </tr>\n",
       "  </thead>\n",
       "  <tbody>\n",
       "    <tr>\n",
       "      <th>labeled_data</th>\n",
       "      <td>0.639097</td>\n",
       "      <td>0.464531</td>\n",
       "      <td>0.650641</td>\n",
       "      <td>0.361210</td>\n",
       "    </tr>\n",
       "    <tr>\n",
       "      <th>pos_labeled_P=0.1</th>\n",
       "      <td>0.626176</td>\n",
       "      <td>0.457513</td>\n",
       "      <td>0.398387</td>\n",
       "      <td>0.537249</td>\n",
       "    </tr>\n",
       "    <tr>\n",
       "      <th>pos_labeled_P=0.2</th>\n",
       "      <td>0.647207</td>\n",
       "      <td>0.466848</td>\n",
       "      <td>0.365057</td>\n",
       "      <td>0.647355</td>\n",
       "    </tr>\n",
       "    <tr>\n",
       "      <th>pos_labeled_P=0.3</th>\n",
       "      <td>0.627900</td>\n",
       "      <td>0.420379</td>\n",
       "      <td>0.327515</td>\n",
       "      <td>0.586746</td>\n",
       "    </tr>\n",
       "    <tr>\n",
       "      <th>pos_labeled_P=0.4</th>\n",
       "      <td>0.645660</td>\n",
       "      <td>0.415237</td>\n",
       "      <td>0.309091</td>\n",
       "      <td>0.632418</td>\n",
       "    </tr>\n",
       "    <tr>\n",
       "      <th>pos_labeled_P=0.5</th>\n",
       "      <td>0.663088</td>\n",
       "      <td>0.393690</td>\n",
       "      <td>0.278475</td>\n",
       "      <td>0.671525</td>\n",
       "    </tr>\n",
       "    <tr>\n",
       "      <th>pos_labeled_P=0.6</th>\n",
       "      <td>0.657087</td>\n",
       "      <td>0.345108</td>\n",
       "      <td>0.237298</td>\n",
       "      <td>0.632440</td>\n",
       "    </tr>\n",
       "    <tr>\n",
       "      <th>pos_labeled_P=0.7</th>\n",
       "      <td>0.662976</td>\n",
       "      <td>0.285850</td>\n",
       "      <td>0.182757</td>\n",
       "      <td>0.655773</td>\n",
       "    </tr>\n",
       "    <tr>\n",
       "      <th>pos_labeled_P=0.8</th>\n",
       "      <td>0.673386</td>\n",
       "      <td>0.226374</td>\n",
       "      <td>0.135348</td>\n",
       "      <td>0.691275</td>\n",
       "    </tr>\n",
       "    <tr>\n",
       "      <th>pos_labeled_P=0.9</th>\n",
       "      <td>0.658931</td>\n",
       "      <td>0.123163</td>\n",
       "      <td>0.067954</td>\n",
       "      <td>0.656716</td>\n",
       "    </tr>\n",
       "  </tbody>\n",
       "</table>\n",
       "</div>"
      ],
      "text/plain": [
       "                    roc_auc    fscore  precision    recall\n",
       "labeled_data       0.639097  0.464531   0.650641  0.361210\n",
       "pos_labeled_P=0.1  0.626176  0.457513   0.398387  0.537249\n",
       "pos_labeled_P=0.2  0.647207  0.466848   0.365057  0.647355\n",
       "pos_labeled_P=0.3  0.627900  0.420379   0.327515  0.586746\n",
       "pos_labeled_P=0.4  0.645660  0.415237   0.309091  0.632418\n",
       "pos_labeled_P=0.5  0.663088  0.393690   0.278475  0.671525\n",
       "pos_labeled_P=0.6  0.657087  0.345108   0.237298  0.632440\n",
       "pos_labeled_P=0.7  0.662976  0.285850   0.182757  0.655773\n",
       "pos_labeled_P=0.8  0.673386  0.226374   0.135348  0.691275\n",
       "pos_labeled_P=0.9  0.658931  0.123163   0.067954  0.656716"
      ]
     },
     "execution_count": 30,
     "metadata": {},
     "output_type": "execute_result"
    }
   ],
   "source": [
    "pd.DataFrame.from_dict(res, orient='index', columns = ['roc_auc', 'fscore', 'precision', 'recall'])"
   ]
  },
  {
   "cell_type": "markdown",
   "metadata": {},
   "source": [
    "F1 при P = 0.2 получился практически таким же, как и при обучении на данных с полноценной разметкой. Однако, соотношение precision-recall на полуразмеченных данных кардинально отличается: при всех значениях P precision практически вдвое выше, чем recall, то есть наша модель определяет большую часть объектов положительного класса (ткк у нас есть реальные положительные метки), но при этом часто ошибается, причислив к нему неразмеченный объект"
   ]
  },
  {
   "cell_type": "code",
   "execution_count": null,
   "metadata": {},
   "outputs": [],
   "source": []
  }
 ],
 "metadata": {
  "kernelspec": {
   "display_name": "Python 3",
   "language": "python",
   "name": "python3"
  },
  "language_info": {
   "codemirror_mode": {
    "name": "ipython",
    "version": 3
   },
   "file_extension": ".py",
   "mimetype": "text/x-python",
   "name": "python",
   "nbconvert_exporter": "python",
   "pygments_lexer": "ipython3",
   "version": "3.7.9"
  }
 },
 "nbformat": 4,
 "nbformat_minor": 4
}
